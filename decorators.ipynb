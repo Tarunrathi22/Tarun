{
  "nbformat": 4,
  "nbformat_minor": 0,
  "metadata": {
    "colab": {
      "provenance": [],
      "authorship_tag": "ABX9TyNjOWR8iDPuIPXi3moF92KK",
      "include_colab_link": true
    },
    "kernelspec": {
      "name": "python3",
      "display_name": "Python 3"
    },
    "language_info": {
      "name": "python"
    }
  },
  "cells": [
    {
      "cell_type": "markdown",
      "metadata": {
        "id": "view-in-github",
        "colab_type": "text"
      },
      "source": [
        "<a href=\"https://colab.research.google.com/github/Tarunrathi22/Tarun/blob/main/decorators.ipynb\" target=\"_parent\"><img src=\"https://colab.research.google.com/assets/colab-badge.svg\" alt=\"Open In Colab\"/></a>"
      ]
    },
    {
      "cell_type": "markdown",
      "source": [
        "#Decorator\n",
        "\n",
        "In Python, decorators are a powerful and useful tool for modifying the behavior of functions or classes. They allow you to wrap another function in order to extend the behavior of the wrapped function, without permanently modifying it. Decorators are commonly used for logging, access control, instrumentation, caching, and more.\n",
        "\n"
      ],
      "metadata": {
        "id": "ina4om8yKsbe"
      }
    },
    {
      "cell_type": "code",
      "execution_count": null,
      "metadata": {
        "id": "zB_zeG2-HyJh"
      },
      "outputs": [],
      "source": [
        "#decorator\n",
        "\n",
        "\n",
        "def greet(fx):\n",
        "    def mfx(*args,**kwargs):\n",
        "        print(\"good morning\")\n",
        "        fx(*args,**kwargs)\n",
        "        print(\"thanks for using this function\")\n",
        "    return mfx\n",
        "# \"@greet\" is a decorator which is used to print line which you want before the function and after the cocompletion of the function\n",
        "# In this we used decorator which is greet\n",
        "@greet\n",
        "def hello():\n",
        "    print(\"hello world\")\n",
        "# we can also use \"@greet\" here as a decorator\n",
        "\n",
        "@greet\n",
        "def add(a,b):\n",
        "    print(a+b)\n",
        "\n",
        "hello()\n",
        "add(2,3)# we use *args and **kwargs to make function take the input values to add\n",
        "\n",
        "# Using the @ Syntax\n",
        "# Python provides a special syntax for applying decorators using the @ symbol, which makes the code more readable and convenient\n",
        "\n",
        "\n",
        "# Decorators for Functions with Arguments\n",
        "# To handle functions with arguments, you can use *args and **kwargs in the wrapper function\n",
        "\n",
        "\n"
      ]
    }
  ]
}