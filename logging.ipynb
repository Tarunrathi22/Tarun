{
  "nbformat": 4,
  "nbformat_minor": 0,
  "metadata": {
    "colab": {
      "provenance": [],
      "authorship_tag": "ABX9TyPj6JO4rIIvD5BrRyuZfMU9",
      "include_colab_link": true
    },
    "kernelspec": {
      "name": "python3",
      "display_name": "Python 3"
    },
    "language_info": {
      "name": "python"
    }
  },
  "cells": [
    {
      "cell_type": "markdown",
      "metadata": {
        "id": "view-in-github",
        "colab_type": "text"
      },
      "source": [
        "<a href=\"https://colab.research.google.com/github/Tarunrathi22/Tarun/blob/main/logging.ipynb\" target=\"_parent\"><img src=\"https://colab.research.google.com/assets/colab-badge.svg\" alt=\"Open In Colab\"/></a>"
      ]
    },
    {
      "cell_type": "markdown",
      "source": [
        "#Logging\n",
        "\n",
        "Logging in Python is a powerful way to track events that happen during the execution of a program. It is particularly useful for debugging and understanding the flow of a program. Python’s built-in logging module provides a flexible framework for emitting log messages from Python programs.\n"
      ],
      "metadata": {
        "id": "frWsFTI7aXYu"
      }
    },
    {
      "cell_type": "code",
      "execution_count": 1,
      "metadata": {
        "id": "msCzokJLNB94"
      },
      "outputs": [],
      "source": [
        "#Basic Logging Example\n",
        "#Here’s a simple example of how to use the logging module:\n",
        "\n",
        "import logging\n"
      ]
    },
    {
      "cell_type": "code",
      "source": [
        "# Set up basic configuration for logging\n",
        "logging.basicConfig(level=logging.DEBUG)\n",
        "logging.debug(\"This is a debug message\")\n",
        "logging.info(\"This is an info message\")\n",
        "logging.warning(\"This is a warning message\")\n",
        "logging.error(\"This is an error message\")\n",
        "logging.critical(\"This is a critical message\")\n"
      ],
      "metadata": {
        "colab": {
          "base_uri": "https://localhost:8080/"
        },
        "id": "2rCRHHJAaw5L",
        "outputId": "16b3cc20-9c58-4dd1-b223-e808359a05dc"
      },
      "execution_count": 2,
      "outputs": [
        {
          "output_type": "stream",
          "name": "stderr",
          "text": [
            "WARNING:root:This is a warning message\n",
            "ERROR:root:This is an error message\n",
            "CRITICAL:root:This is a critical message\n"
          ]
        }
      ]
    },
    {
      "cell_type": "markdown",
      "source": [
        "**Logging Levels**<br>\n",
        "The logging module defines the following standard logging levels:\n",
        "\n",
        "**DEBUG**:- Detailed information, typically of interest only when diagnosing problems.<br>\n",
        "\n",
        "**INFO**:- Confirmation that things are working as expected.<br>\n",
        "\n",
        "**WARNING**:- An indication that something unexpected happened, or indicative of some problem in the near future (e.g., ‘disk space low’). The software is still working as expected.<br>\n",
        "\n",
        "**ERROR**:- Due to a more serious problem, the software has not been able to perform some function.<br>\n",
        "**CRITICAL**:- A very serious error, indicating that the program itself may be unable to continue running.<br>\n",
        "\n",
        "**Configuring Logging**<br>\n",
        "You can configure the logging system using logging.basicConfig() or a more advanced configuration for complex setups.\n"
      ],
      "metadata": {
        "id": "sNjpgQwvbRJI"
      }
    },
    {
      "cell_type": "code",
      "source": [
        "#basic configration\n",
        "import logging\n",
        "\n",
        "logging.basicConfig(level=logging.INFO, format='%(asctime)s - %(levelname)s - %(message)s')\n",
        "logging.info(\"This is an info message\")\n"
      ],
      "metadata": {
        "id": "G3_01w2AbMfj"
      },
      "execution_count": 4,
      "outputs": []
    },
    {
      "cell_type": "code",
      "source": [
        "#Advanced Configuration\n",
        "#For more complex logging configurations, you can set up multiple handlers, formatters, and loggers.\n",
        "\n",
        "import logging\n",
        "\n",
        "# Create a custom logger\n",
        "logger = logging.getLogger(__name__)\n",
        "\n",
        "# Create handlers\n",
        "console_handler = logging.StreamHandler()\n",
        "file_handler = logging.FileHandler('file.log')\n",
        "console_handler.setLevel(logging.WARNING)\n",
        "file_handler.setLevel(logging.ERROR)\n",
        "\n",
        "# Create formatters and add them to the handlers\n",
        "console_format = logging.Formatter('%(name)s - %(levelname)s - %(message)s')\n",
        "file_format = logging.Formatter('%(asctime)s - %(name)s - %(levelname)s - %(message)s')\n",
        "console_handler.setFormatter(console_format)\n",
        "file_handler.setFormatter(file_format)\n",
        "\n",
        "# Add handlers to the logger\n",
        "logger.addHandler(console_handler)\n",
        "logger.addHandler(file_handler)\n",
        "\n",
        "# Log messages\n",
        "logger.debug(\"This is a debug message\")\n",
        "logger.info(\"This is an info message\")\n",
        "logger.warning('This is a warning')\n",
        "logger.error('This is an error')\n",
        "logger.critical('This is a critical error')"
      ],
      "metadata": {
        "colab": {
          "base_uri": "https://localhost:8080/"
        },
        "id": "yegVQ_jGbMSO",
        "outputId": "3a3faa23-7efa-460f-bae8-e07253bfab48"
      },
      "execution_count": 6,
      "outputs": [
        {
          "output_type": "stream",
          "name": "stderr",
          "text": [
            "__main__ - WARNING - This is a warning\n",
            "__main__ - WARNING - This is a warning\n",
            "WARNING:__main__:This is a warning\n",
            "__main__ - ERROR - This is an error\n",
            "__main__ - ERROR - This is an error\n",
            "ERROR:__main__:This is an error\n",
            "__main__ - CRITICAL - This is a critical error\n",
            "__main__ - CRITICAL - This is a critical error\n",
            "CRITICAL:__main__:This is a critical error\n"
          ]
        }
      ]
    },
    {
      "cell_type": "markdown",
      "source": [
        "####Logging from Multiple Modules\n"
      ],
      "metadata": {
        "id": "QrSYQoQR0JCP"
      }
    },
    {
      "cell_type": "code",
      "source": [
        "# If you have a large application, you might want to configure logging separately for each module.\n",
        "\n",
        "# my_module.py\n",
        "import logging\n",
        "\n",
        "logger = logging.getLogger(__name__)\n",
        "\n",
        "def my_function():\n",
        "    logger.info(\"This is an info message from my_module\")"
      ],
      "metadata": {
        "id": "wAIF93pV0E-1"
      },
      "execution_count": 7,
      "outputs": []
    },
    {
      "cell_type": "code",
      "source": [
        "# main.py\n",
        "import logging\n",
        "import my_module\n",
        "\n",
        "logging.basicConfig(level=logging.DEBUG)\n",
        "my_module.my_function()"
      ],
      "metadata": {
        "id": "JjghTBgT0jpi"
      },
      "execution_count": 9,
      "outputs": []
    },
    {
      "cell_type": "code",
      "source": [
        "#Logging Exceptions\n",
        "#You can log exceptions with the exc_info parameter or using the logging.exception method, which is a shorthand for logging.error with exc_info=True.\n",
        "\n",
        "import logging\n",
        "try:\n",
        "    1 / 0\n",
        "except ZeroDivisionError:\n",
        "    logging.error(\"Exception occurred\", exc_info=True)\n",
        "# Or using logging.exception\n",
        "try:\n",
        "    1 / 0\n",
        "except ZeroDivisionError:\n",
        "    logging.exception(\"Exception occurred\")\n"
      ],
      "metadata": {
        "colab": {
          "base_uri": "https://localhost:8080/"
        },
        "id": "G2Si616d0qfW",
        "outputId": "fde46649-faf7-4ba5-ec55-d26d2d3bd65a"
      },
      "execution_count": 10,
      "outputs": [
        {
          "output_type": "stream",
          "name": "stderr",
          "text": [
            "ERROR:root:Exception occurred\n",
            "Traceback (most recent call last):\n",
            "  File \"<ipython-input-10-a8a029b7976e>\", line 6, in <cell line: 5>\n",
            "    1 / 0\n",
            "ZeroDivisionError: division by zero\n",
            "ERROR:root:Exception occurred\n",
            "Traceback (most recent call last):\n",
            "  File \"<ipython-input-10-a8a029b7976e>\", line 11, in <cell line: 10>\n",
            "    1 / 0\n",
            "ZeroDivisionError: division by zero\n"
          ]
        }
      ]
    },
    {
      "cell_type": "code",
      "source": [
        "#Rotating Log Files\n",
        "#For applications that run for a long time, you might want to use rotating log files to prevent log files from growing indefinitely.\n",
        "\n",
        "import logging\n",
        "from logging.handlers import RotatingFileHandler\n",
        "\n",
        "# Create a rotating file handler\n",
        "handler = RotatingFileHandler('app.log', maxBytes=2000, backupCount=5)\n",
        "logger = logging.getLogger(__name__)\n",
        "logger.setLevel(logging.INFO)\n",
        "logger.addHandler(handler)\n",
        "\n",
        "for i in range(10):\n",
        "    logger.info(\"This is log message number %s\", i)\n",
        "\n",
        "#The logging module in Python provides a flexible framework for emitting log messages from Python programs.\n",
        "#By using different logging levels and configurations, you can effectively track the events in your program and troubleshoot issues when they arise.\n",
        "#Whether you are working on a small script or a large application, proper logging can greatly aid in debugging and monitoring the application's behavior.\n"
      ],
      "metadata": {
        "colab": {
          "base_uri": "https://localhost:8080/"
        },
        "id": "EFAeeRnv0zPN",
        "outputId": "13d62583-5dcc-4860-80d5-ff59324aec75"
      },
      "execution_count": 12,
      "outputs": [
        {
          "output_type": "stream",
          "name": "stderr",
          "text": [
            "INFO:__main__:This is log message number 0\n",
            "INFO:__main__:This is log message number 1\n",
            "INFO:__main__:This is log message number 2\n",
            "INFO:__main__:This is log message number 3\n",
            "INFO:__main__:This is log message number 4\n",
            "INFO:__main__:This is log message number 5\n",
            "INFO:__main__:This is log message number 6\n",
            "INFO:__main__:This is log message number 7\n",
            "INFO:__main__:This is log message number 8\n",
            "INFO:__main__:This is log message number 9\n"
          ]
        }
      ]
    },
    {
      "cell_type": "code",
      "source": [],
      "metadata": {
        "id": "JO5DULjp02Fx"
      },
      "execution_count": 11,
      "outputs": []
    }
  ]
}