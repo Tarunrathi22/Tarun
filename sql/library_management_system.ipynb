{
  "nbformat": 4,
  "nbformat_minor": 0,
  "metadata": {
    "colab": {
      "provenance": []
    },
    "kernelspec": {
      "name": "python3",
      "display_name": "Python 3"
    },
    "language_info": {
      "name": "python"
    }
  },
  "cells": [
    {
      "cell_type": "markdown",
      "source": [
        "#Library Management System"
      ],
      "metadata": {
        "id": "icMggrDCvA7X"
      }
    },
    {
      "cell_type": "code",
      "execution_count": 1,
      "metadata": {
        "id": "UjcVWPUVtqkB"
      },
      "outputs": [],
      "source": [
        "import sqlite3\n",
        "\n",
        "# Connect to the database\n",
        "conn = sqlite3.connect('library.db')\n",
        "cursor = conn.cursor()\n",
        "\n",
        "# Create the books table\n",
        "cursor.execute('''\n",
        "    CREATE TABLE IF NOT EXISTS books (\n",
        "        id INTEGER PRIMARY KEY,\n",
        "        title TEXT,\n",
        "        author TEXT,\n",
        "        publication_date DATE,\n",
        "        genre TEXT\n",
        "    )\n",
        "''')\n",
        "\n",
        "# Commit the changes\n",
        "conn.commit()\n",
        "\n",
        "# Close the connection\n",
        "conn.close()"
      ]
    },
    {
      "cell_type": "code",
      "source": [
        "def add_book(title, author, publication_date, genre):\n",
        "    conn = sqlite3.connect('library.db')\n",
        "    cursor = conn.cursor()\n",
        "\n",
        "    cursor.execute('''\n",
        "        INSERT INTO books (title, author, publication_date, genre)\n",
        "        VALUES (?, ?, ?, ?)\n",
        "    ''', (title, author, publication_date, genre))\n",
        "\n",
        "    conn.commit()\n",
        "    conn.close()"
      ],
      "metadata": {
        "id": "cY5bqykXvKIj"
      },
      "execution_count": 2,
      "outputs": []
    },
    {
      "cell_type": "code",
      "source": [
        "def view_books():\n",
        "    conn = sqlite3.connect('library.db')\n",
        "    cursor = conn.cursor()\n",
        "\n",
        "    cursor.execute('SELECT * FROM books')\n",
        "    books = cursor.fetchall()\n",
        "\n",
        "    for book in books:\n",
        "        print(f\"ID: {book[0]}, Title: {book[1]}, Author: {book[2]}, Publication Date: {book[3]}, Genre: {book[4]}\")\n",
        "\n",
        "    conn.close()"
      ],
      "metadata": {
        "id": "oBxzrVm1vOP1"
      },
      "execution_count": 3,
      "outputs": []
    },
    {
      "cell_type": "code",
      "source": [
        "def update_book(id, title=None, author=None, publication_date=None, genre=None):\n",
        "    conn = sqlite3.connect('library.db')\n",
        "    cursor = conn.cursor()\n",
        "\n",
        "    query = 'UPDATE books SET '\n",
        "    values = []\n",
        "\n",
        "    if title:\n",
        "        query += 'title = ?, '\n",
        "        values.append(title)\n",
        "    if author:\n",
        "        query += 'author = ?, '\n",
        "        values.append(author)\n",
        "    if publication_date:\n",
        "        query += 'publication_date = ?, '\n",
        "        values.append(publication_date)\n",
        "    if genre:\n",
        "        query += 'genre = ?, '\n",
        "        values.append(genre)\n",
        "\n",
        "    query = query.rstrip(', ') + ' WHERE id = ?'\n",
        "    values.append(id)\n",
        "\n",
        "    cursor.execute(query, values)\n",
        "\n",
        "    conn.commit()\n",
        "    conn.close()\n",
        "\n",
        "def delete_book(id):\n",
        "    conn = sqlite3.connect('library.db')\n",
        "    cursor = conn.cursor()\n",
        "\n",
        "    cursor.execute('DELETE FROM books WHERE id = ?', (id,))\n",
        "\n",
        "    conn.commit()\n",
        "    conn.close()"
      ],
      "metadata": {
        "id": "mi3wUcv-vTmd"
      },
      "execution_count": 4,
      "outputs": []
    },
    {
      "cell_type": "code",
      "source": [
        "# Add some sample books\n",
        "add_book('To Kill a Mockingbird', 'Harper Lee', '1960-07-11', 'Fiction')\n",
        "add_book('1984', 'George Orwell', '1949-06-08', 'Dystopian')\n",
        "add_book('The Great Gatsby', 'F. Scott Fitzgerald', '1925-04-10', 'Romance')"
      ],
      "metadata": {
        "id": "Kia5uzH9vWtk"
      },
      "execution_count": 5,
      "outputs": []
    },
    {
      "cell_type": "code",
      "source": [
        "# View all books\n",
        "view_books()\n",
        "\n"
      ],
      "metadata": {
        "colab": {
          "base_uri": "https://localhost:8080/"
        },
        "id": "Qj3EDGQ6vuSe",
        "outputId": "5a15ef77-0785-4aaf-cc2b-04eab9280465"
      },
      "execution_count": 6,
      "outputs": [
        {
          "output_type": "stream",
          "name": "stdout",
          "text": [
            "ID: 1, Title: To Kill a Mockingbird, Author: Harper Lee, Publication Date: 1960-07-11, Genre: Fiction\n",
            "ID: 2, Title: 1984, Author: George Orwell, Publication Date: 1949-06-08, Genre: Dystopian\n",
            "ID: 3, Title: The Great Gatsby, Author: F. Scott Fitzgerald, Publication Date: 1925-04-10, Genre: Romance\n"
          ]
        }
      ]
    },
    {
      "cell_type": "code",
      "source": [
        "# Update a book\n",
        "update_book(1, title='To Kill a Mockingbird (Updated)')\n",
        "\n"
      ],
      "metadata": {
        "id": "OwYgpc2avxZw"
      },
      "execution_count": 7,
      "outputs": []
    },
    {
      "cell_type": "code",
      "source": [
        "# View all books again\n",
        "view_books()\n",
        "\n"
      ],
      "metadata": {
        "colab": {
          "base_uri": "https://localhost:8080/"
        },
        "id": "Rc_P7bPDwFjg",
        "outputId": "33fd5757-51e6-496f-c688-3209c8088f10"
      },
      "execution_count": 8,
      "outputs": [
        {
          "output_type": "stream",
          "name": "stdout",
          "text": [
            "ID: 1, Title: To Kill a Mockingbird (Updated), Author: Harper Lee, Publication Date: 1960-07-11, Genre: Fiction\n",
            "ID: 2, Title: 1984, Author: George Orwell, Publication Date: 1949-06-08, Genre: Dystopian\n",
            "ID: 3, Title: The Great Gatsby, Author: F. Scott Fitzgerald, Publication Date: 1925-04-10, Genre: Romance\n"
          ]
        }
      ]
    },
    {
      "cell_type": "code",
      "source": [
        "# Delete a book\n",
        "delete_book(2)\n",
        "\n"
      ],
      "metadata": {
        "id": "-nKqE5GqwJb5"
      },
      "execution_count": 9,
      "outputs": []
    },
    {
      "cell_type": "code",
      "source": [
        "# View all books again\n",
        "view_books()"
      ],
      "metadata": {
        "colab": {
          "base_uri": "https://localhost:8080/"
        },
        "id": "mgYSEz1UwPY5",
        "outputId": "f1e7fc44-a001-4c03-ffd2-a6234dcdf938"
      },
      "execution_count": 10,
      "outputs": [
        {
          "output_type": "stream",
          "name": "stdout",
          "text": [
            "ID: 1, Title: To Kill a Mockingbird (Updated), Author: Harper Lee, Publication Date: 1960-07-11, Genre: Fiction\n",
            "ID: 3, Title: The Great Gatsby, Author: F. Scott Fitzgerald, Publication Date: 1925-04-10, Genre: Romance\n"
          ]
        }
      ]
    }
  ]
}