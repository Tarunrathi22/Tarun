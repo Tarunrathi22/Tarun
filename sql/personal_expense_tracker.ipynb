{
  "nbformat": 4,
  "nbformat_minor": 0,
  "metadata": {
    "colab": {
      "provenance": [],
      "gpuType": "T4"
    },
    "kernelspec": {
      "name": "python3",
      "display_name": "Python 3"
    },
    "language_info": {
      "name": "python"
    },
    "accelerator": "GPU"
  },
  "cells": [
    {
      "cell_type": "markdown",
      "source": [
        "# Personal Expense Tracker"
      ],
      "metadata": {
        "id": "eeivgntF1Eb2"
      }
    },
    {
      "cell_type": "code",
      "source": [
        "import sqlite3\n",
        "\n",
        "conn = sqlite3.connect('expense_tracker.db')\n",
        "cursor = conn.cursor()\n",
        "\n",
        "cursor.execute('''\n",
        "    CREATE TABLE IF NOT EXISTS expenses (\n",
        "        id INTEGER PRIMARY KEY AUTOINCREMENT,\n",
        "        date TEXT NOT NULL,\n",
        "        category TEXT NOT NULL,\n",
        "        amount REAL NOT NULL,\n",
        "        description TEXT\n",
        "    )\n",
        "''')\n",
        "conn.commit()"
      ],
      "metadata": {
        "id": "uGF8WNd-jtz2"
      },
      "execution_count": 1,
      "outputs": []
    },
    {
      "cell_type": "code",
      "source": [
        "def add_expense(date, catagory, amount, description):\n",
        "    cursor.execute('''\n",
        "        INSERT INTO expenses (date, category, amount, description)\n",
        "        VALUES (?, ?, ?, ?)\n",
        "    ''', (date, catagory, amount, description))\n",
        "    conn.commit()"
      ],
      "metadata": {
        "id": "4w62sfI0mQAG"
      },
      "execution_count": 2,
      "outputs": []
    },
    {
      "cell_type": "code",
      "source": [
        "def view_expenses():\n",
        "    cursor.execute('SELECT * FROM expenses')\n",
        "    expenses = cursor.fetchall()\n",
        "    return expenses"
      ],
      "metadata": {
        "id": "Y3WqKuJsmcr0"
      },
      "execution_count": 3,
      "outputs": []
    },
    {
      "cell_type": "code",
      "source": [
        "def update_expense(expense_id, date=None, category=None, amount=None, description=None):\n",
        "    query = 'UPDATE expenses SET'\n",
        "    params = []\n",
        "    if date:\n",
        "        query += ' date = ?,'\n",
        "        params.append(date)\n",
        "    if category:\n",
        "        query += ' category = ?,'\n",
        "        params.append(category)\n",
        "    if amount:\n",
        "        query += ' amount = ?,'\n",
        "        params.append(amount)\n",
        "    if description:\n",
        "        query += ' description = ?,'\n",
        "        params.append(description)\n",
        "    query = query.rstrip(',') + ' WHERE id = ?'\n",
        "    params.append(expense_id)\n",
        "    cursor.execute(query, params)\n",
        "    conn.commit()\n",
        "\n",
        "def delete_expense(expense_id):\n",
        "    cursor.execute('DELETE FROM expenses WHERE id = ?', (expense_id,))\n",
        "    conn.commit()"
      ],
      "metadata": {
        "id": "rbqiI-GUmim5"
      },
      "execution_count": 4,
      "outputs": []
    },
    {
      "cell_type": "code",
      "source": [
        "#Add some exenses\n",
        "add_expense('2024-09-10', 'Food', 'Lunch', 12.50)\n",
        "add_expense('2024-09-11', 'Transport', 'Bus ticket', 2.75)"
      ],
      "metadata": {
        "id": "ItlejPMbmtq_"
      },
      "execution_count": 5,
      "outputs": []
    },
    {
      "cell_type": "code",
      "source": [
        "#view expense\n",
        "view_expenses()"
      ],
      "metadata": {
        "colab": {
          "base_uri": "https://localhost:8080/"
        },
        "id": "paPfbtqVzqQt",
        "outputId": "725d91ac-a81d-45bb-bb07-fc1d1b8602a2"
      },
      "execution_count": 6,
      "outputs": [
        {
          "output_type": "execute_result",
          "data": {
            "text/plain": [
              "[(1, '2024-09-10', 'Food', 'Lunch', '12.5'),\n",
              " (2, '2024-09-11', 'Transport', 'Bus ticket', '2.75')]"
            ]
          },
          "metadata": {},
          "execution_count": 6
        }
      ]
    },
    {
      "cell_type": "code",
      "source": [
        "#update expense\n",
        "update_expense(1, '2024-09-10', 'Food', 'Lunch at restaurant', 15.00)"
      ],
      "metadata": {
        "id": "xlTgEAsVz4Tb"
      },
      "execution_count": 7,
      "outputs": []
    },
    {
      "cell_type": "code",
      "source": [
        "#delete expense\n",
        "delete_expense(2)"
      ],
      "metadata": {
        "id": "9bzsvWUj0RaX"
      },
      "execution_count": 8,
      "outputs": []
    },
    {
      "cell_type": "code",
      "source": [
        "view_expenses()\n"
      ],
      "metadata": {
        "colab": {
          "base_uri": "https://localhost:8080/"
        },
        "id": "RIdq-R1i0cdj",
        "outputId": "ec846ad8-f5cf-444a-e345-e73904c9cc2e"
      },
      "execution_count": 9,
      "outputs": [
        {
          "output_type": "execute_result",
          "data": {
            "text/plain": [
              "[(1, '2024-09-10', 'Food', 'Lunch at restaurant', '15.0')]"
            ]
          },
          "metadata": {},
          "execution_count": 9
        }
      ]
    }
  ]
}