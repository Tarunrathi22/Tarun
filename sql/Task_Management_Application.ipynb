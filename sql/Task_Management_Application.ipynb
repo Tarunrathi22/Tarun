{
  "nbformat": 4,
  "nbformat_minor": 0,
  "metadata": {
    "colab": {
      "provenance": []
    },
    "kernelspec": {
      "name": "python3",
      "display_name": "Python 3"
    },
    "language_info": {
      "name": "python"
    }
  },
  "cells": [
    {
      "cell_type": "markdown",
      "source": [
        "#Task Management System"
      ],
      "metadata": {
        "id": "CV6QnIfLz4A6"
      }
    },
    {
      "cell_type": "code",
      "execution_count": 1,
      "metadata": {
        "id": "GOi8jyzdyb8g"
      },
      "outputs": [],
      "source": [
        "import sqlite3\n",
        "\n",
        "# Connect to the database\n",
        "conn = sqlite3.connect('task_manager.db')\n",
        "cursor = conn.cursor()\n",
        "\n",
        "# Create the tasks table\n",
        "cursor.execute('''\n",
        "    CREATE TABLE IF NOT EXISTS tasks (\n",
        "        id INTEGER PRIMARY KEY,\n",
        "        title TEXT,\n",
        "        description TEXT,\n",
        "        due_date DATE,\n",
        "        status TEXT\n",
        "    )\n",
        "''')\n",
        "\n",
        "# Commit the changes\n",
        "conn.commit()\n",
        "\n",
        "# Close the connection\n",
        "conn.close()"
      ]
    },
    {
      "cell_type": "code",
      "source": [
        "def add_task(title, description, due_date, status):\n",
        "    conn = sqlite3.connect('task_manager.db')\n",
        "    cursor = conn.cursor()\n",
        "\n",
        "    cursor.execute('''\n",
        "        INSERT INTO tasks (title, description, due_date, status)\n",
        "        VALUES (?, ?, ?, ?)\n",
        "    ''', (title, description, due_date, status))\n",
        "\n",
        "    conn.commit()\n",
        "    conn.close()"
      ],
      "metadata": {
        "id": "AndbAn-00GPL"
      },
      "execution_count": 2,
      "outputs": []
    },
    {
      "cell_type": "code",
      "source": [
        "def view_tasks():\n",
        "    conn = sqlite3.connect('task_manager.db')\n",
        "    cursor = conn.cursor()\n",
        "\n",
        "    cursor.execute('SELECT * FROM tasks')\n",
        "    tasks = cursor.fetchall()\n",
        "\n",
        "    for task in tasks:\n",
        "        print(f\"ID: {task[0]}, Title: {task[1]}, Description: {task[2]}, Due Date: {task[3]}, Status: {task[4]}\")\n",
        "\n",
        "    conn.close()"
      ],
      "metadata": {
        "id": "voJ5mxhy0I9l"
      },
      "execution_count": 3,
      "outputs": []
    },
    {
      "cell_type": "code",
      "source": [
        "def update_task(id, title=None, description=None, due_date=None, status=None):\n",
        "    conn = sqlite3.connect('task_manager.db')\n",
        "    cursor = conn.cursor()\n",
        "\n",
        "    query = 'UPDATE tasks SET '\n",
        "    values = []\n",
        "\n",
        "    if title:\n",
        "        query += 'title = ?, '\n",
        "        values.append(title)\n",
        "    if description:\n",
        "        query += 'description = ?, '\n",
        "        values.append(description)\n",
        "    if due_date:\n",
        "        query += 'due_date = ?, '\n",
        "        values.append(due_date)\n",
        "    if status:\n",
        "        query += 'status = ?, '\n",
        "        values.append(status)\n",
        "\n",
        "    query = query.rstrip(', ') + ' WHERE id = ?'\n",
        "    values.append(id)\n",
        "\n",
        "    cursor.execute(query, values)\n",
        "\n",
        "    conn.commit()\n",
        "    conn.close()\n",
        "\n",
        "def delete_task(id):\n",
        "    conn = sqlite3.connect('task_manager.db')\n",
        "    cursor = conn.cursor()\n",
        "\n",
        "    cursor.execute('DELETE FROM tasks WHERE id = ?', (id,))\n",
        "\n",
        "    conn.commit()\n",
        "    conn.close()"
      ],
      "metadata": {
        "id": "czya3b6b0Mse"
      },
      "execution_count": 4,
      "outputs": []
    },
    {
      "cell_type": "code",
      "source": [
        "# Add some sample tasks\n",
        "add_task('Task 1', 'This is task 1', '2023-03-15', 'In Progress')\n",
        "add_task('Task 2', 'This is task 2', '2023-03-20', 'Not Started')\n",
        "add_task('Task 3', 'This is task 3', '2023-03-25', 'Completed')\n"
      ],
      "metadata": {
        "id": "OqjCzePP0QfW"
      },
      "execution_count": 5,
      "outputs": []
    },
    {
      "cell_type": "code",
      "source": [
        "# View all tasks\n",
        "view_tasks()\n"
      ],
      "metadata": {
        "colab": {
          "base_uri": "https://localhost:8080/"
        },
        "id": "X8lQ_4CB0Uth",
        "outputId": "54e43324-7554-4559-ee1f-41f8aa74d6f5"
      },
      "execution_count": 6,
      "outputs": [
        {
          "output_type": "stream",
          "name": "stdout",
          "text": [
            "ID: 1, Title: Task 1, Description: This is task 1, Due Date: 2023-03-15, Status: In Progress\n",
            "ID: 2, Title: Task 2, Description: This is task 2, Due Date: 2023-03-20, Status: Not Started\n",
            "ID: 3, Title: Task 3, Description: This is task 3, Due Date: 2023-03-25, Status: Completed\n"
          ]
        }
      ]
    },
    {
      "cell_type": "code",
      "source": [
        "# Update a task\n",
        "update_task(1, status='In Review')\n"
      ],
      "metadata": {
        "id": "LpuCAVPf0e-d"
      },
      "execution_count": 7,
      "outputs": []
    },
    {
      "cell_type": "code",
      "source": [
        "# View all tasks again\n",
        "view_tasks()\n"
      ],
      "metadata": {
        "colab": {
          "base_uri": "https://localhost:8080/"
        },
        "id": "hisBHfEi0hUz",
        "outputId": "66d1a34e-d4f6-4f98-ab3d-190b8c12a4ca"
      },
      "execution_count": 8,
      "outputs": [
        {
          "output_type": "stream",
          "name": "stdout",
          "text": [
            "ID: 1, Title: Task 1, Description: This is task 1, Due Date: 2023-03-15, Status: In Review\n",
            "ID: 2, Title: Task 2, Description: This is task 2, Due Date: 2023-03-20, Status: Not Started\n",
            "ID: 3, Title: Task 3, Description: This is task 3, Due Date: 2023-03-25, Status: Completed\n"
          ]
        }
      ]
    },
    {
      "cell_type": "code",
      "source": [
        "# Delete a task\n",
        "delete_task(2)\n"
      ],
      "metadata": {
        "id": "iCliX7q60kag"
      },
      "execution_count": 9,
      "outputs": []
    },
    {
      "cell_type": "code",
      "source": [
        "# View all tasks again\n",
        "view_tasks()\n"
      ],
      "metadata": {
        "colab": {
          "base_uri": "https://localhost:8080/"
        },
        "id": "rJHiuyDs0nrh",
        "outputId": "b46195a0-bb41-4680-9c30-a0f72953dfe3"
      },
      "execution_count": 10,
      "outputs": [
        {
          "output_type": "stream",
          "name": "stdout",
          "text": [
            "ID: 1, Title: Task 1, Description: This is task 1, Due Date: 2023-03-15, Status: In Review\n",
            "ID: 3, Title: Task 3, Description: This is task 3, Due Date: 2023-03-25, Status: Completed\n"
          ]
        }
      ]
    },
    {
      "cell_type": "code",
      "source": [],
      "metadata": {
        "id": "KAz5QrOS0psn"
      },
      "execution_count": null,
      "outputs": []
    }
  ]
}