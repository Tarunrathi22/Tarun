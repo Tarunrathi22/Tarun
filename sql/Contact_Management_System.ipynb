{
  "nbformat": 4,
  "nbformat_minor": 0,
  "metadata": {
    "colab": {
      "provenance": []
    },
    "kernelspec": {
      "name": "python3",
      "display_name": "Python 3"
    },
    "language_info": {
      "name": "python"
    }
  },
  "cells": [
    {
      "cell_type": "markdown",
      "source": [
        "#Contact Management System"
      ],
      "metadata": {
        "id": "5efSKRHg-h1j"
      }
    },
    {
      "cell_type": "code",
      "execution_count": 1,
      "metadata": {
        "id": "FztfQ0-w4eBW"
      },
      "outputs": [],
      "source": [
        "import sqlite3\n",
        "\n",
        "# Connect to the database\n",
        "conn = sqlite3.connect('contact_manager.db')\n",
        "cursor = conn.cursor()\n",
        "\n",
        "# Create the contacts table\n",
        "cursor.execute('''\n",
        "    CREATE TABLE IF NOT EXISTS contacts (\n",
        "        id INTEGER PRIMARY KEY,\n",
        "        first_name TEXT,\n",
        "        last_name TEXT,\n",
        "        email TEXT,\n",
        "        phone_number TEXT,\n",
        "        address TEXT\n",
        "    )\n",
        "''')\n",
        "\n",
        "# Commit the changes\n",
        "conn.commit()\n",
        "\n",
        "# Close the connection\n",
        "conn.close()"
      ]
    },
    {
      "cell_type": "code",
      "source": [
        "def add_contact(first_name, last_name, email, phone_number, address):\n",
        "    conn = sqlite3.connect('contact_manager.db')\n",
        "    cursor = conn.cursor()\n",
        "\n",
        "    cursor.execute('''\n",
        "        INSERT INTO contacts (first_name, last_name, email, phone_number, address)\n",
        "        VALUES (?, ?, ?, ?, ?)\n",
        "    ''', (first_name, last_name, email, phone_number, address))\n",
        "\n",
        "    conn.commit()\n",
        "    conn.close()"
      ],
      "metadata": {
        "id": "RTRimHxc_W75"
      },
      "execution_count": 2,
      "outputs": []
    },
    {
      "cell_type": "code",
      "source": [
        "def view_contacts():\n",
        "    conn = sqlite3.connect('contact_manager.db')\n",
        "    cursor = conn.cursor()\n",
        "\n",
        "    cursor.execute('SELECT * FROM contacts')\n",
        "    contacts = cursor.fetchall()\n",
        "\n",
        "    for contact in contacts:\n",
        "        print(f\"ID: {contact[0]}, First Name: {contact[1]}, Last Name: {contact[2]}, Email: {contact[3]}, Phone Number: {contact[4]}, Address: {contact[5]}\")\n",
        "\n",
        "    conn.close()"
      ],
      "metadata": {
        "id": "Xmv0zQe6_fyx"
      },
      "execution_count": 3,
      "outputs": []
    },
    {
      "cell_type": "code",
      "source": [
        "def update_contact(id, first_name=None, last_name=None, email=None, phone_number=None, address=None):\n",
        "    conn = sqlite3.connect('contact_manager.db')\n",
        "    cursor = conn.cursor()\n",
        "\n",
        "    query = 'UPDATE contacts SET '\n",
        "    values = []\n",
        "\n",
        "    if first_name:\n",
        "        query += 'first_name = ?, '\n",
        "        values.append(first_name)\n",
        "    if last_name:\n",
        "        query += 'last_name = ?, '\n",
        "        values.append(last_name)\n",
        "    if email:\n",
        "        query += 'email = ?, '\n",
        "        values.append(email)\n",
        "    if phone_number:\n",
        "        query += 'phone_number = ?, '\n",
        "        values.append(phone_number)\n",
        "    if address:\n",
        "        query += 'address = ?, '\n",
        "        values.append(address)\n",
        "\n",
        "    query = query.rstrip(', ') + ' WHERE id = ?'\n",
        "    values.append(id)\n",
        "\n",
        "    cursor.execute(query, values)\n",
        "\n",
        "    conn.commit()\n",
        "    conn.close()"
      ],
      "metadata": {
        "id": "BRddhVmo_jOH"
      },
      "execution_count": 4,
      "outputs": []
    },
    {
      "cell_type": "code",
      "source": [
        "def delete_contact(id):\n",
        "    conn = sqlite3.connect('contact_manager.db')\n",
        "    cursor = conn.cursor()\n",
        "\n",
        "    cursor.execute('DELETE FROM contacts WHERE id = ?', (id,))\n",
        "\n",
        "    conn.commit()\n",
        "    conn.close()"
      ],
      "metadata": {
        "id": "VXdkgrss_mLH"
      },
      "execution_count": 5,
      "outputs": []
    },
    {
      "cell_type": "code",
      "source": [
        "# Add some sample contacts\n",
        "add_contact('John', 'Doe', 'john.doe@example.com', '123-456-7890', '123 Main St')\n",
        "add_contact('Jane', 'Smith', 'jane.smith@example.com', '098-765-4321', '456 Elm St')\n",
        "add_contact('Bob', 'Johnson', 'bob.johnson@example.com', '555-123-4567', '789 Oak St')\n",
        "\n"
      ],
      "metadata": {
        "id": "2CIZywnx_rt-"
      },
      "execution_count": 6,
      "outputs": []
    },
    {
      "cell_type": "code",
      "source": [
        "# View all contacts\n",
        "view_contacts()\n"
      ],
      "metadata": {
        "colab": {
          "base_uri": "https://localhost:8080/"
        },
        "id": "DJndan6K_w-m",
        "outputId": "164f8a02-244b-4133-aeb1-05acaacd47c3"
      },
      "execution_count": 7,
      "outputs": [
        {
          "output_type": "stream",
          "name": "stdout",
          "text": [
            "ID: 1, First Name: John, Last Name: Doe, Email: john.doe@example.com, Phone Number: 123-456-7890, Address: 123 Main St\n",
            "ID: 2, First Name: Jane, Last Name: Smith, Email: jane.smith@example.com, Phone Number: 098-765-4321, Address: 456 Elm St\n",
            "ID: 3, First Name: Bob, Last Name: Johnson, Email: bob.johnson@example.com, Phone Number: 555-123-4567, Address: 789 Oak St\n"
          ]
        }
      ]
    },
    {
      "cell_type": "code",
      "source": [
        "# Update a contact\n",
        "update_contact(1, email='john.doe2@example.com')\n"
      ],
      "metadata": {
        "id": "EBFjVJgI_0YK"
      },
      "execution_count": 8,
      "outputs": []
    },
    {
      "cell_type": "code",
      "source": [
        "# View all contacts again\n",
        "view_contacts()\n"
      ],
      "metadata": {
        "colab": {
          "base_uri": "https://localhost:8080/"
        },
        "id": "fLpKZA4J_24P",
        "outputId": "41e3f860-7faf-487b-d87e-c17cba2328ad"
      },
      "execution_count": 9,
      "outputs": [
        {
          "output_type": "stream",
          "name": "stdout",
          "text": [
            "ID: 1, First Name: John, Last Name: Doe, Email: john.doe2@example.com, Phone Number: 123-456-7890, Address: 123 Main St\n",
            "ID: 2, First Name: Jane, Last Name: Smith, Email: jane.smith@example.com, Phone Number: 098-765-4321, Address: 456 Elm St\n",
            "ID: 3, First Name: Bob, Last Name: Johnson, Email: bob.johnson@example.com, Phone Number: 555-123-4567, Address: 789 Oak St\n"
          ]
        }
      ]
    },
    {
      "cell_type": "code",
      "source": [
        "# Delete a contact\n",
        "delete_contact(2)\n"
      ],
      "metadata": {
        "id": "svqSavuO_5A5"
      },
      "execution_count": 10,
      "outputs": []
    },
    {
      "cell_type": "code",
      "source": [
        "# View all contacts again\n",
        "view_contacts()\n"
      ],
      "metadata": {
        "colab": {
          "base_uri": "https://localhost:8080/"
        },
        "id": "ZtR89QwKADw2",
        "outputId": "3f549fed-c7b9-4f20-870c-ae5ea7a4dceb"
      },
      "execution_count": 12,
      "outputs": [
        {
          "output_type": "stream",
          "name": "stdout",
          "text": [
            "ID: 1, First Name: John, Last Name: Doe, Email: john.doe2@example.com, Phone Number: 123-456-7890, Address: 123 Main St\n",
            "ID: 3, First Name: Bob, Last Name: Johnson, Email: bob.johnson@example.com, Phone Number: 555-123-4567, Address: 789 Oak St\n"
          ]
        }
      ]
    },
    {
      "cell_type": "code",
      "source": [],
      "metadata": {
        "id": "3cFO1huMDORt"
      },
      "execution_count": null,
      "outputs": []
    }
  ]
}