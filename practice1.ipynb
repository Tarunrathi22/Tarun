{
  "nbformat": 4,
  "nbformat_minor": 0,
  "metadata": {
    "colab": {
      "provenance": [],
      "authorship_tag": "ABX9TyON56O+Co+gtoCPedR5pYod",
      "include_colab_link": true
    },
    "kernelspec": {
      "name": "python3",
      "display_name": "Python 3"
    },
    "language_info": {
      "name": "python"
    }
  },
  "cells": [
    {
      "cell_type": "markdown",
      "metadata": {
        "id": "view-in-github",
        "colab_type": "text"
      },
      "source": [
        "<a href=\"https://colab.research.google.com/github/Tarunrathi22/Tarun/blob/main/practice1.ipynb\" target=\"_parent\"><img src=\"https://colab.research.google.com/assets/colab-badge.svg\" alt=\"Open In Colab\"/></a>"
      ]
    },
    {
      "cell_type": "code",
      "source": [
        "x=int(input(\"enter the year\"))\n",
        "if x%4==0:\n",
        "  print(x,\"is a leap year\")\n",
        "else:\n",
        "  print(x,\"is not a leap year\")"
      ],
      "metadata": {
        "colab": {
          "base_uri": "https://localhost:8080/"
        },
        "id": "4ZJ4tQ6Tk_Nb",
        "outputId": "15827633-5793-4cc2-c552-b3e788f01ed7"
      },
      "execution_count": null,
      "outputs": [
        {
          "output_type": "stream",
          "name": "stdout",
          "text": [
            "enter the year2004\n",
            "2004 is a leap year\n"
          ]
        }
      ]
    },
    {
      "cell_type": "code",
      "source": [
        "#to print fabonacci series\n",
        "n=int(input(\"enter the number\"))\n",
        "a=0\n",
        "b=1\n",
        "c=0\n",
        "while c<n:\n",
        "  print(c)\n",
        "  a=b\n",
        "  b=c\n",
        "  c=a+b"
      ],
      "metadata": {
        "colab": {
          "base_uri": "https://localhost:8080/"
        },
        "id": "AexWQ6onzFqj",
        "outputId": "6245c6d7-b53f-4798-f205-a39c8b6f3940"
      },
      "execution_count": null,
      "outputs": [
        {
          "output_type": "stream",
          "name": "stdout",
          "text": [
            "enter the number200\n",
            "0\n",
            "1\n",
            "1\n",
            "2\n",
            "3\n",
            "5\n",
            "8\n",
            "13\n",
            "21\n",
            "34\n",
            "55\n",
            "89\n",
            "144\n"
          ]
        }
      ]
    },
    {
      "cell_type": "code",
      "source": [
        "a = ['a', 'b', 'c']\n",
        "n = [1, 2, 3]\n",
        "x = [a, n]\n",
        "print(x)\n",
        "print(x[0][1])\n",
        "print(x[1][2])\n"
      ],
      "metadata": {
        "colab": {
          "base_uri": "https://localhost:8080/"
        },
        "id": "V5wyZF_x6sPP",
        "outputId": "fcc59de9-b450-466e-93b7-e70e903ba575"
      },
      "execution_count": null,
      "outputs": [
        {
          "output_type": "stream",
          "name": "stdout",
          "text": [
            "[['a', 'b', 'c'], [1, 2, 3]]\n",
            "b\n",
            "3\n"
          ]
        }
      ]
    },
    {
      "cell_type": "code",
      "source": [
        "letters = ['a', 'b', 'c', 'd', 'e', 'f', 'g']\n",
        "print(letters)\n",
        "['a', 'b', 'c', 'd', 'e', 'f', 'g']\n",
        "# for replacing some values\n",
        "letters[2:5] = ['C', 'D', 'E']\n",
        "print(letters)\n",
        "#now remove them\n",
        "letters[2:5] = []\n",
        "print(letters)\n",
        "# clear the list by replacing all the elements with an empty list\n",
        "letters[:] = []\n",
        "print(letters)"
      ],
      "metadata": {
        "colab": {
          "base_uri": "https://localhost:8080/"
        },
        "id": "aua7eq0g75T_",
        "outputId": "4dbda046-1c28-4f9a-f56a-2ea18fe749b7"
      },
      "execution_count": null,
      "outputs": [
        {
          "output_type": "stream",
          "name": "stdout",
          "text": [
            "['a', 'b', 'c', 'd', 'e', 'f', 'g']\n",
            "['a', 'b', 'C', 'D', 'E', 'f', 'g']\n",
            "['a', 'b', 'f', 'g']\n",
            "[]\n"
          ]
        }
      ]
    },
    {
      "cell_type": "code",
      "source": [
        "rgb = [\"Red\", \"Green\", \"Blue\"]\n",
        "rgba = rgb\n",
        "id(rgb) == id(rgba)\n",
        "rgba.append(\"Alph\")\n",
        "print(rgb)\n"
      ],
      "metadata": {
        "colab": {
          "base_uri": "https://localhost:8080/"
        },
        "id": "ySqAyfXW8XJk",
        "outputId": "bc3ff32e-1ac2-4653-d6e2-b8b624f0b9c0"
      },
      "execution_count": null,
      "outputs": [
        {
          "output_type": "stream",
          "name": "stdout",
          "text": [
            "['Red', 'Green', 'Blue', 'Alph']\n"
          ]
        }
      ]
    },
    {
      "cell_type": "code",
      "source": [
        "cubes = [1, 8, 27, 65, 125]  # something's wrong here\n",
        "4 ** 3  # the cube of 4 is 64 not 65\n",
        "\n",
        "cubes[3] = 64  # replace the wrong value\n",
        "cubes"
      ],
      "metadata": {
        "colab": {
          "base_uri": "https://localhost:8080/"
        },
        "id": "qF4vA-h49Fhx",
        "outputId": "89f6b984-9b22-423f-fc50-61337b071959"
      },
      "execution_count": null,
      "outputs": [
        {
          "output_type": "execute_result",
          "data": {
            "text/plain": [
              "[1, 8, 27, 64, 125]"
            ]
          },
          "metadata": {},
          "execution_count": 28
        }
      ]
    },
    {
      "cell_type": "code",
      "source": [
        "word = 'Python'\n",
        "word[0]\n",
        "\n",
        "word[:2] + word[2:]\n",
        "word[:4] + word[4:]"
      ],
      "metadata": {
        "colab": {
          "base_uri": "https://localhost:8080/",
          "height": 35
        },
        "id": "qWiGrauU9XrR",
        "outputId": "4a73dba4-bf31-4b85-b4e9-adecd512070c"
      },
      "execution_count": null,
      "outputs": [
        {
          "output_type": "execute_result",
          "data": {
            "text/plain": [
              "'Python'"
            ],
            "application/vnd.google.colaboratory.intrinsic+json": {
              "type": "string"
            }
          },
          "metadata": {},
          "execution_count": 30
        }
      ]
    },
    {
      "cell_type": "code",
      "source": [
        "#the built in function len()\n",
        "# letter=['a','b','c','d']\n",
        "# print(len(letter))\n",
        "\n",
        "\n",
        "#assignment to slices is also possible,and this can even change the size of the list or clear it entirely\n",
        "# letters=['a','b','c','d','e','f','g']\n",
        "# print(letters)\n",
        "# letters[2:5]=['C','D','E']\n",
        "# print(letters)\n",
        "# letters[2:5]=[]\n",
        "# print(letters)\n",
        "# letters[:]=[]\n",
        "# print(letters)\n",
        "\n",
        "#matrix addition\n",
        "# X = [[1,2,3],\n",
        "#     [4 ,5,6],\n",
        "#     [7 ,8,9]]\n",
        "# Y = [[9,8,7],\n",
        "#     [6,5,4],\n",
        "#     [3,2,1]]\n",
        "# result = [[0,0,0],\n",
        "#          [0,0,0],\n",
        "#          [0,0,0]]\n",
        "# for i in range(len(X)):\n",
        "#     for j in range(len(X[0])):\n",
        "#         result[i][j] = X[i][j] + Y[i][j]\n",
        "# for r in result:\n",
        "#     print(r)\n",
        "\n",
        "\n",
        "\n",
        "\n",
        "\n",
        "# Program to multiply two matrices using nested loops\n",
        "# 3x3 matrix\n",
        "# X = [[12,7,3],\n",
        "#     [4 ,5,6],\n",
        "#     [7 ,8,9]]\n",
        "# # 3x4 matrix\n",
        "# Y = [[5,8,1,2],\n",
        "#     [6,7,3,0],\n",
        "#     [4,5,9,1]]\n",
        "# # result is 3x4\n",
        "# result = [[0,0,0,0],\n",
        "#          [0,0,0,0],\n",
        "#          [0,0,0,0]]\n",
        "# # iterate through rows of X\n",
        "# for i in range(len(X)):\n",
        "#    # iterate through columns of Y\n",
        "#    for j in range(len(Y[0])):\n",
        "#        # iterate through rows of Y\n",
        "#        for k in range(len(Y)):\n",
        "#             result[i][j] += X[i][k] * Y[k][j]\n",
        "# for r in result:\n",
        "#     print(r)\n",
        "\n",
        "#to read txt file or any other file\n",
        "# with open(\"040.txt\",'r') as f:\n",
        "#     content = f.read();\n",
        "#     print(content)\n",
        "\n",
        "\n",
        "\n",
        "\n",
        "#prime number\n",
        "# no=int(input(\"enter the number\"))\n",
        "# if no>1:\n",
        "#     for k in range (2,no):\n",
        "#         if no%k==0:\n",
        "#             print(no,\"is not a prime no.\")\n",
        "#             break\n",
        "\n",
        "#     else:\n",
        "#         print(no,\"is a prime no\")\n",
        "\n",
        "# else:\n",
        "#     print(no,\"is not a prime no\")"
      ],
      "metadata": {
        "id": "_h3SQSzI9ubA"
      },
      "execution_count": null,
      "outputs": []
    },
    {
      "cell_type": "code",
      "source": [],
      "metadata": {
        "id": "9dsavhntBQHv"
      },
      "execution_count": null,
      "outputs": []
    }
  ]
}