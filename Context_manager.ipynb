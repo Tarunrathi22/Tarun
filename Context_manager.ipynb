{
  "nbformat": 4,
  "nbformat_minor": 0,
  "metadata": {
    "colab": {
      "provenance": [],
      "authorship_tag": "ABX9TyND5+pTxBn8eIRHNB2Om3sF",
      "include_colab_link": true
    },
    "kernelspec": {
      "name": "python3",
      "display_name": "Python 3"
    },
    "language_info": {
      "name": "python"
    }
  },
  "cells": [
    {
      "cell_type": "markdown",
      "metadata": {
        "id": "view-in-github",
        "colab_type": "text"
      },
      "source": [
        "<a href=\"https://colab.research.google.com/github/Tarunrathi22/Tarun/blob/main/Context_manager.ipynb\" target=\"_parent\"><img src=\"https://colab.research.google.com/assets/colab-badge.svg\" alt=\"Open In Colab\"/></a>"
      ]
    },
    {
      "cell_type": "markdown",
      "source": [
        "#Context Manager\n",
        "Context managers are frequently used in Python to handle resources like locks, database connections, or file input or output. They ensure the correct acquisition and release of resources. Using the'__ enter__' and __ exit__ methods, the with statement is the most common method to construct a context manager."
      ],
      "metadata": {
        "id": "qiAATJCH76lS"
      }
    },
    {
      "cell_type": "markdown",
      "source": [
        "###Implementing a Context Manager\n",
        "There are two primary ways to create a context manager in Python:\n",
        "\n",
        "1. Using the with statement with a built-in context manager:\n",
        "\n",
        "  - The most straightforward way to use a context manager is with built-in Python constructs. For example, when working with files:"
      ],
      "metadata": {
        "id": "7R9EFvep8wMK"
      }
    },
    {
      "cell_type": "code",
      "execution_count": 7,
      "metadata": {
        "id": "Kvwbz_mX1ryn"
      },
      "outputs": [],
      "source": [
        "with open('/content/dlllist.txt', 'r') as file:\n",
        "    content = file.read()\n",
        "# The file is automatically closed here"
      ]
    },
    {
      "cell_type": "markdown",
      "source": [
        "2. Creating a context manager using a class:\n",
        "\n",
        "  - By defining a class with __enter__ and __exit__ methods, you can create a custom context manager."
      ],
      "metadata": {
        "id": "Q2HEmBhh-hNk"
      }
    },
    {
      "cell_type": "code",
      "source": [
        "class MyContextManager:\n",
        "    def __enter__(self):\n",
        "        # Acquire resource\n",
        "        print(\"Entering context\")\n",
        "        return self\n",
        "\n",
        "    def __exit__(self, exc_type, exc_value, traceback):\n",
        "        # Release resource\n",
        "        print(\"Exiting context\")\n",
        "        # Handle exceptions if necessary\n",
        "        if exc_type is not None:\n",
        "            print(f\"Exception: {exc_value}\")\n",
        "        return True  # Suppresses exception if True, otherwise the exception propagates\n",
        "\n",
        "with MyContextManager() as manager:\n",
        "    print(\"Inside context\")\n",
        "    # Do some work\n",
        "# Automatically calls __exit__ here"
      ],
      "metadata": {
        "colab": {
          "base_uri": "https://localhost:8080/"
        },
        "id": "KLTDZC9v9hfP",
        "outputId": "64284632-4473-4717-efd8-c99a8ca9dc4d"
      },
      "execution_count": 8,
      "outputs": [
        {
          "output_type": "stream",
          "name": "stdout",
          "text": [
            "Entering context\n",
            "Inside context\n",
            "Exiting context\n"
          ]
        }
      ]
    },
    {
      "cell_type": "markdown",
      "source": [
        "3. Creating a context manager using the contextlib module:\n",
        "\n",
        "  - The contextlib module provides utilities for creating context managers, such as the @contextmanager decorator."
      ],
      "metadata": {
        "id": "BSlkhS64DFdS"
      }
    },
    {
      "cell_type": "code",
      "source": [
        "from contextlib import contextmanager\n",
        "\n",
        "@contextmanager\n",
        "def my_context():\n",
        "    print(\"Entering context\")\n",
        "    try:\n",
        "        yield\n",
        "    finally:\n",
        "        print(\"Exiting context\")\n",
        "\n",
        "with my_context():\n",
        "    print(\"Inside context\")\n",
        "    # Do some work"
      ],
      "metadata": {
        "colab": {
          "base_uri": "https://localhost:8080/"
        },
        "id": "w2Hj9T5iCtRs",
        "outputId": "6da9a8fc-7ce9-445f-c1ef-dc6f449bf3b3"
      },
      "execution_count": 9,
      "outputs": [
        {
          "output_type": "stream",
          "name": "stdout",
          "text": [
            "Entering context\n",
            "Inside context\n",
            "Exiting context\n"
          ]
        }
      ]
    },
    {
      "cell_type": "code",
      "source": [
        "class FileManager:\n",
        "    def __init__(self, filename, mode):\n",
        "        self.filename = filename\n",
        "        self.mode = mode\n",
        "        self.file = None\n",
        "\n",
        "    def __enter__(self):\n",
        "        self.file = open(self.filename, self.mode)\n",
        "        return self.file\n",
        "\n",
        "    def __exit__(self, exc_type, exc_value, exc_traceback):\n",
        "        self.file.close()\n",
        "\n",
        "# Loading a file\n",
        "with FileManager('/content/dlllist.txt', 'w') as f:\n",
        "    f.write('test')\n",
        "\n",
        "# Checking if the file is closed\n",
        "print(f.closed)"
      ],
      "metadata": {
        "colab": {
          "base_uri": "https://localhost:8080/"
        },
        "id": "2shHyGNuD7vt",
        "outputId": "d4355931-5873-4d67-a5fd-9d92fd549ba1"
      },
      "execution_count": 10,
      "outputs": [
        {
          "output_type": "stream",
          "name": "stdout",
          "text": [
            "True\n"
          ]
        }
      ]
    },
    {
      "cell_type": "code",
      "source": [],
      "metadata": {
        "id": "ldc1htu3J4l6"
      },
      "execution_count": null,
      "outputs": []
    }
  ]
}