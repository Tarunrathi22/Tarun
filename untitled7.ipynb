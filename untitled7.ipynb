{
  "nbformat": 4,
  "nbformat_minor": 0,
  "metadata": {
    "colab": {
      "provenance": [],
      "authorship_tag": "ABX9TyNLLW80AL60sdxPdMjzKzDN",
      "include_colab_link": true
    },
    "kernelspec": {
      "name": "python3",
      "display_name": "Python 3"
    },
    "language_info": {
      "name": "python"
    }
  },
  "cells": [
    {
      "cell_type": "markdown",
      "metadata": {
        "id": "view-in-github",
        "colab_type": "text"
      },
      "source": [
        "<a href=\"https://colab.research.google.com/github/Tarunrathi22/Tarun/blob/main/untitled7.ipynb\" target=\"_parent\"><img src=\"https://colab.research.google.com/assets/colab-badge.svg\" alt=\"Open In Colab\"/></a>"
      ]
    },
    {
      "cell_type": "markdown",
      "source": [
        "Consider the following quote from the Monty Python:\n",
        "\n",
        "\"Brave Sir Robin ran away. Bravely ran away away. When danger reared it's ugly head, he bravely turned his tail and fled. Brave Sir Robin turned about and gallantly he chickened out...\"\n",
        "\n",
        "Perform the following tasks:\n",
        "\n",
        "Build a dictionary whose keys are characters, and whose values correspond to the number of times a character is present in the quote.\n",
        "\n",
        "Hint: start with a smaller string than the full quote if you want, like \"rawr!\", which should r"
      ],
      "metadata": {
        "id": "dPGjQ74UPfG7"
      }
    },
    {
      "cell_type": "code",
      "execution_count": 1,
      "metadata": {
        "colab": {
          "base_uri": "https://localhost:8080/"
        },
        "id": "WF7hZXR9PdcA",
        "outputId": "0ac97927-928e-4186-980d-106d3238aa30"
      },
      "outputs": [
        {
          "output_type": "stream",
          "name": "stdout",
          "text": [
            "{'B': 3, 'r': 13, 'a': 21, 'v': 4, 'e': 16, ' ': 31, 'S': 2, 'i': 8, 'R': 2, 'o': 4, 'b': 4, 'n': 12, 'w': 3, 'y': 7, '.': 6, 'l': 8, 'W': 1, 'h': 6, 'd': 9, 'g': 3, 't': 7, \"'\": 1, 's': 2, 'u': 5, ',': 1, 'f': 1, 'c': 2, 'k': 1}\n"
          ]
        }
      ],
      "source": [
        "quote = \"Brave Sir Robin ran away. Bravely ran away away. When danger reared it's ugly head, he bravely turned his tail and fled. Brave Sir Robin turned about and gallantly he chickened out...\"\n",
        "a = {}\n",
        "\n",
        "for i in quote:\n",
        "    if i in a:\n",
        "        a[i]+=1\n",
        "    else:\n",
        "        a[i]=1\n",
        "print(a)\n",
        "\n",
        "\n",
        "\n",
        "\n"
      ]
    },
    {
      "cell_type": "markdown",
      "source": [
        "A little bit of a puzzle:\n",
        "\n",
        "def mysterious_function(n):\n",
        "    if n <= 1:\n",
        "        return 1\n",
        "    return n * mysterious_function(n - 1)\n",
        "\n",
        "What does the mysterious_function do?\n",
        "Write a function that gives the same result, but using a for loop."
      ],
      "metadata": {
        "id": "jwp1hBskZhHb"
      }
    },
    {
      "cell_type": "code",
      "source": [
        "def mysterious_function(n):\n",
        "    if n <= 1:\n",
        "        return 1\n",
        "    return n * mysterious_function(n - 1)\n",
        "\n",
        "a = int(input(\"enter a number\"))\n",
        "for i in range(1,a+1):\n",
        "    print(mysterious_function(i))\n",
        "\n",
        "\n",
        "# it is the function to find the factorial of the given number"
      ],
      "metadata": {
        "id": "US-ZOQSNPvYh",
        "colab": {
          "base_uri": "https://localhost:8080/"
        },
        "outputId": "88be2a9c-b29a-4d40-d3d4-127baa9c840f"
      },
      "execution_count": 5,
      "outputs": [
        {
          "output_type": "stream",
          "name": "stdout",
          "text": [
            "enter a number55\n",
            "1\n",
            "2\n",
            "6\n",
            "24\n",
            "120\n",
            "720\n",
            "5040\n",
            "40320\n",
            "362880\n",
            "3628800\n",
            "39916800\n",
            "479001600\n",
            "6227020800\n",
            "87178291200\n",
            "1307674368000\n",
            "20922789888000\n",
            "355687428096000\n",
            "6402373705728000\n",
            "121645100408832000\n",
            "2432902008176640000\n",
            "51090942171709440000\n",
            "1124000727777607680000\n",
            "25852016738884976640000\n",
            "620448401733239439360000\n",
            "15511210043330985984000000\n",
            "403291461126605635584000000\n",
            "10888869450418352160768000000\n",
            "304888344611713860501504000000\n",
            "8841761993739701954543616000000\n",
            "265252859812191058636308480000000\n",
            "8222838654177922817725562880000000\n",
            "263130836933693530167218012160000000\n",
            "8683317618811886495518194401280000000\n",
            "295232799039604140847618609643520000000\n",
            "10333147966386144929666651337523200000000\n",
            "371993326789901217467999448150835200000000\n",
            "13763753091226345046315979581580902400000000\n",
            "523022617466601111760007224100074291200000000\n",
            "20397882081197443358640281739902897356800000000\n",
            "815915283247897734345611269596115894272000000000\n",
            "33452526613163807108170062053440751665152000000000\n",
            "1405006117752879898543142606244511569936384000000000\n",
            "60415263063373835637355132068513997507264512000000000\n",
            "2658271574788448768043625811014615890319638528000000000\n",
            "119622220865480194561963161495657715064383733760000000000\n",
            "5502622159812088949850305428800254892961651752960000000000\n",
            "258623241511168180642964355153611979969197632389120000000000\n",
            "12413915592536072670862289047373375038521486354677760000000000\n",
            "608281864034267560872252163321295376887552831379210240000000000\n",
            "30414093201713378043612608166064768844377641568960512000000000000\n",
            "1551118753287382280224243016469303211063259720016986112000000000000\n",
            "80658175170943878571660636856403766975289505440883277824000000000000\n",
            "4274883284060025564298013753389399649690343788366813724672000000000000\n",
            "230843697339241380472092742683027581083278564571807941132288000000000000\n",
            "12696403353658275925965100847566516959580321051449436762275840000000000000\n"
          ]
        }
      ]
    },
    {
      "cell_type": "code",
      "source": [],
      "metadata": {
        "id": "mBLu0RGVSc_j"
      },
      "execution_count": null,
      "outputs": []
    }
  ]
}