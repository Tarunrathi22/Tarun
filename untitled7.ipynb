{
  "nbformat": 4,
  "nbformat_minor": 0,
  "metadata": {
    "colab": {
      "provenance": [],
      "authorship_tag": "ABX9TyPc0HzImwfWrnA2HK3hqPYo",
      "include_colab_link": true
    },
    "kernelspec": {
      "name": "python3",
      "display_name": "Python 3"
    },
    "language_info": {
      "name": "python"
    }
  },
  "cells": [
    {
      "cell_type": "markdown",
      "metadata": {
        "id": "view-in-github",
        "colab_type": "text"
      },
      "source": [
        "<a href=\"https://colab.research.google.com/github/Tarunrathi22/Tarun/blob/main/untitled7.ipynb\" target=\"_parent\"><img src=\"https://colab.research.google.com/assets/colab-badge.svg\" alt=\"Open In Colab\"/></a>"
      ]
    },
    {
      "cell_type": "markdown",
      "source": [
        "Q1 Consider the following quote from the Monty Python:\n",
        "\n",
        "\"Brave Sir Robin ran away. Bravely ran away away. When danger reared it's ugly head, he bravely turned his tail and fled. Brave Sir Robin turned about and gallantly he chickened out...\"\n",
        "\n",
        "Perform the following tasks:\n",
        "\n",
        "Build a dictionary whose keys are characters, and whose values correspond to the number of times a character is present in the quote.\n",
        "\n",
        "Hint: start with a smaller string than the full quote if you want, like \"rawr!\", which should r"
      ],
      "metadata": {
        "id": "dPGjQ74UPfG7"
      }
    },
    {
      "cell_type": "code",
      "execution_count": null,
      "metadata": {
        "colab": {
          "base_uri": "https://localhost:8080/"
        },
        "id": "WF7hZXR9PdcA",
        "outputId": "0ac97927-928e-4186-980d-106d3238aa30"
      },
      "outputs": [
        {
          "output_type": "stream",
          "name": "stdout",
          "text": [
            "{'B': 3, 'r': 13, 'a': 21, 'v': 4, 'e': 16, ' ': 31, 'S': 2, 'i': 8, 'R': 2, 'o': 4, 'b': 4, 'n': 12, 'w': 3, 'y': 7, '.': 6, 'l': 8, 'W': 1, 'h': 6, 'd': 9, 'g': 3, 't': 7, \"'\": 1, 's': 2, 'u': 5, ',': 1, 'f': 1, 'c': 2, 'k': 1}\n"
          ]
        }
      ],
      "source": [
        "quote = \"Brave Sir Robin ran away. Bravely ran away away. When danger reared it's ugly head, he bravely turned his tail and fled. Brave Sir Robin turned about and gallantly he chickened out...\"\n",
        "a = {}\n",
        "\n",
        "for i in quote:\n",
        "    if i in a:\n",
        "        a[i]+=1\n",
        "    else:\n",
        "        a[i]=1\n",
        "print(a)\n",
        "\n",
        "\n",
        "\n",
        "\n"
      ]
    },
    {
      "cell_type": "markdown",
      "source": [
        "Q2 A little bit of a puzzle:\n",
        "\n",
        "def mysterious_function(n):\n",
        "    if n <= 1:\n",
        "        return 1\n",
        "    return n * mysterious_function(n - 1)\n",
        "\n",
        "What does the mysterious_function do?\n",
        "Write a function that gives the same result, but using a for loop."
      ],
      "metadata": {
        "id": "jwp1hBskZhHb"
      }
    },
    {
      "cell_type": "code",
      "source": [
        "def mysterious_function(n):\n",
        "    if n <= 1:\n",
        "        return 1\n",
        "    return n * mysterious_function(n - 1)\n",
        "\n",
        "a = int(input(\"enter a number\"))\n",
        "for i in range(1,a+1):\n",
        "    print(mysterious_function(i))\n",
        "\n",
        "\n",
        "# it is the function to find the factorial of the given number"
      ],
      "metadata": {
        "id": "US-ZOQSNPvYh",
        "colab": {
          "base_uri": "https://localhost:8080/"
        },
        "outputId": "31985faa-738d-4d72-b2a4-db1d87c8f59b"
      },
      "execution_count": null,
      "outputs": [
        {
          "output_type": "stream",
          "name": "stdout",
          "text": [
            "enter a number5\n",
            "1\n",
            "2\n",
            "6\n",
            "24\n",
            "120\n"
          ]
        }
      ]
    },
    {
      "cell_type": "markdown",
      "source": [
        "Q3 Write a function that takes a string of mixed letters and digits, and returns a list of the words (groups of letters) and numbers (group of digits) of the string.\n",
        "For instance, the string \"Nobody0expects42the2048Spanish1492Inquisition!\"\n",
        "should give [ \"Nobody\" , 0 , \"expects\" , 42 , \"the\" , 2048 , \"Spanish\" , 1492 , \"Inquisition!\" ]\n",
        "\n",
        "This exercise can be a tad harder than what it looks like. Don't despair and take your time; you can make it !\n",
        "\n",
        "Hint: you can make use of the string method isdigit()"
      ],
      "metadata": {
        "id": "Sn3uhp_pcRyC"
      }
    },
    {
      "cell_type": "code",
      "source": [
        "import re\n",
        "\n",
        "def split_string(s):\n",
        "    parts = re.findall(r'\\d+|[a-zA-Z]+|[^a-zA-Z\\d]+', s)\n",
        "\n",
        "    result = [int(part) if part.isdigit() else part for part in parts]\n",
        "\n",
        "    return result\n",
        "x = \"Nobody0expects42the2048Spanish1492Inquisition!\"\n",
        "print(split_string(x))\n",
        "\n",
        "\n"
      ],
      "metadata": {
        "id": "mBLu0RGVSc_j",
        "colab": {
          "base_uri": "https://localhost:8080/"
        },
        "outputId": "fe3f14d9-3b77-486c-bc37-11fed1946143"
      },
      "execution_count": null,
      "outputs": [
        {
          "output_type": "stream",
          "name": "stdout",
          "text": [
            "['Nobody', 0, 'expects', 42, 'the', 2048, 'Spanish', 1492, 'Inquisition', '!']\n"
          ]
        }
      ]
    },
    {
      "cell_type": "code",
      "source": [],
      "metadata": {
        "id": "OW4NSaalcsQo"
      },
      "execution_count": null,
      "outputs": []
    },
    {
      "cell_type": "code",
      "source": [
        "# a=\"tarun\"*2*3\n",
        "# print(a)\n",
        "\n",
        "\n",
        "p,q,r=1,2,3\n",
        "print(p,q,r)"
      ],
      "metadata": {
        "id": "lLG98OfNsM_k",
        "outputId": "eca87cbf-2e91-4dbd-ff65-0e3fdc468a1c",
        "colab": {
          "base_uri": "https://localhost:8080/"
        }
      },
      "execution_count": null,
      "outputs": [
        {
          "output_type": "stream",
          "name": "stdout",
          "text": [
            "1 2 3\n"
          ]
        }
      ]
    },
    {
      "cell_type": "code",
      "source": [
        "#more control flow statements\n",
        "# x= int(input(\"enter a integer\"))\n",
        "# if x<0:\n",
        "#     print(\"x is not negative\")\n",
        "# elif x==0:\n",
        "#     print(x,\"is zero\")\n",
        "# else:\n",
        "#     print(\"x is positive  \")\n",
        "\n",
        "\n",
        "\n",
        "\n",
        "#for statement\n",
        "\n",
        "# words=['cat','dog', 'animal','elephant']\n",
        "# for w in words:\n",
        "#     print(w,len(w))\n",
        "\n",
        "\n",
        "# users={'hans':'active', 'tom':'inactive', 'mary':'active'}\n",
        "# for users, status in users.copy(),item():\n",
        "#     if status=='inactive':\n",
        "#         del users[user]\n",
        "# active_user={}\n",
        "# for user,stastus in user.items():\n",
        "#     if status=='active':\n",
        "#         active_user[user]=status\n",
        "\n",
        "\n",
        "list(())"
      ],
      "metadata": {
        "id": "a0djDfJXsXII"
      },
      "execution_count": null,
      "outputs": []
    },
    {
      "cell_type": "code",
      "source": [
        "#local and global scope\n",
        "\n",
        "a,b,c=1,2,3\n",
        "def test(a,b,c):\n",
        "    a,b,c=10,20,30\n",
        "    print(a,b,c)\n",
        "test(a,b,c)\n",
        "print(a,b,c)"
      ],
      "metadata": {
        "id": "bQHuRSV-2TN3",
        "colab": {
          "base_uri": "https://localhost:8080/"
        },
        "outputId": "13ea785c-0129-48a5-ac45-21240bbadbd5"
      },
      "execution_count": 1,
      "outputs": [
        {
          "output_type": "stream",
          "name": "stdout",
          "text": [
            "10 20 30\n",
            "1 2 3\n"
          ]
        }
      ]
    },
    {
      "cell_type": "code",
      "source": [
        "a=25\n",
        "if a>=18:\n",
        "    print(\"you are eligible to vote\")\n",
        "elif a>20:\n",
        "    print(\"you are not eligible to vote\")\n",
        "else:\n",
        "    print(\"you are not eligible to vote\")"
      ],
      "metadata": {
        "id": "RAPwZe282SxI",
        "colab": {
          "base_uri": "https://localhost:8080/"
        },
        "outputId": "fe11eecc-d9f6-46aa-f381-95a4a26f3e98"
      },
      "execution_count": 2,
      "outputs": [
        {
          "output_type": "stream",
          "name": "stdout",
          "text": [
            "you are eligible to vote\n"
          ]
        }
      ]
    },
    {
      "cell_type": "code",
      "source": [
        "import os\n",
        "\n",
        "def presentdir(path):\n",
        "    file_count = len([item for item in os.listdir(path) if os.path.isfile(os.path.join(path, item))])\n",
        "    directory_contents = os.listdir(path)\n",
        "    return file_count, directory_contents\n",
        "\n",
        "path = \"/content/sample_data\"\n",
        "file_count, directory_contents = presentdir(path)\n",
        "print(f\"Number of files: {file_count}\")\n",
        "print(\"Contents of the directory:\", directory_contents)"
      ],
      "metadata": {
        "id": "Ghw3wu6QfUNa",
        "outputId": "f4d23c7f-a7a8-41da-82d2-630fd05af482",
        "colab": {
          "base_uri": "https://localhost:8080/"
        }
      },
      "execution_count": 6,
      "outputs": [
        {
          "output_type": "stream",
          "name": "stdout",
          "text": [
            "Number of files: 6\n",
            "Contents of the directory: ['anscombe.json', 'README.md', 'california_housing_test.csv', 'california_housing_train.csv', 'mnist_test.csv', 'mnist_train_small.csv']\n"
          ]
        }
      ]
    },
    {
      "cell_type": "code",
      "source": [],
      "metadata": {
        "id": "fBJwRSti8EFG"
      },
      "execution_count": null,
      "outputs": []
    }
  ]
}