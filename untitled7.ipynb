{
  "nbformat": 4,
  "nbformat_minor": 0,
  "metadata": {
    "colab": {
      "provenance": [],
      "authorship_tag": "ABX9TyM1Rp6kwNQreZBPB5NkJvYJ",
      "include_colab_link": true
    },
    "kernelspec": {
      "name": "python3",
      "display_name": "Python 3"
    },
    "language_info": {
      "name": "python"
    }
  },
  "cells": [
    {
      "cell_type": "markdown",
      "metadata": {
        "id": "view-in-github",
        "colab_type": "text"
      },
      "source": [
        "<a href=\"https://colab.research.google.com/github/Tarunrathi22/Tarun/blob/main/untitled7.ipynb\" target=\"_parent\"><img src=\"https://colab.research.google.com/assets/colab-badge.svg\" alt=\"Open In Colab\"/></a>"
      ]
    },
    {
      "cell_type": "markdown",
      "source": [
        "Consider the following quote from the Monty Python:\n",
        "\n",
        "\"Brave Sir Robin ran away. Bravely ran away away. When danger reared it's ugly head, he bravely turned his tail and fled. Brave Sir Robin turned about and gallantly he chickened out...\"\n",
        "\n",
        "Perform the following tasks:\n",
        "\n",
        "Build a dictionary whose keys are characters, and whose values correspond to the number of times a character is present in the quote.\n",
        "\n",
        "Hint: start with a smaller string than the full quote if you want, like \"rawr!\", which should r"
      ],
      "metadata": {
        "id": "dPGjQ74UPfG7"
      }
    },
    {
      "cell_type": "code",
      "execution_count": 1,
      "metadata": {
        "colab": {
          "base_uri": "https://localhost:8080/"
        },
        "id": "WF7hZXR9PdcA",
        "outputId": "0ac97927-928e-4186-980d-106d3238aa30"
      },
      "outputs": [
        {
          "output_type": "stream",
          "name": "stdout",
          "text": [
            "{'B': 3, 'r': 13, 'a': 21, 'v': 4, 'e': 16, ' ': 31, 'S': 2, 'i': 8, 'R': 2, 'o': 4, 'b': 4, 'n': 12, 'w': 3, 'y': 7, '.': 6, 'l': 8, 'W': 1, 'h': 6, 'd': 9, 'g': 3, 't': 7, \"'\": 1, 's': 2, 'u': 5, ',': 1, 'f': 1, 'c': 2, 'k': 1}\n"
          ]
        }
      ],
      "source": [
        "quote = \"Brave Sir Robin ran away. Bravely ran away away. When danger reared it's ugly head, he bravely turned his tail and fled. Brave Sir Robin turned about and gallantly he chickened out...\"\n",
        "a = {}\n",
        "\n",
        "for i in quote:\n",
        "    if i in a:\n",
        "        a[i]+=1\n",
        "    else:\n",
        "        a[i]=1\n",
        "print(a)\n",
        "\n",
        "\n",
        "\n",
        "\n"
      ]
    },
    {
      "cell_type": "markdown",
      "source": [
        "A little bit of a puzzle:\n",
        "\n",
        "def mysterious_function(n):\n",
        "    if n <= 1:\n",
        "        return 1\n",
        "    return n * mysterious_function(n - 1)\n",
        "\n",
        "What does the mysterious_function do?\n",
        "Write a function that gives the same result, but using a for loop."
      ],
      "metadata": {
        "id": "jwp1hBskZhHb"
      }
    },
    {
      "cell_type": "code",
      "source": [
        "def mysterious_function(n):\n",
        "    if n <= 1:\n",
        "        return 1\n",
        "    return n * mysterious_function(n - 1)\n",
        "\n",
        "a = 5\n",
        "for i in range(1,a+1):\n",
        "    print(mysterious_function(i))\n",
        "\n",
        "\n",
        "# it is the function to find the factorial of the given number"
      ],
      "metadata": {
        "id": "US-ZOQSNPvYh",
        "colab": {
          "base_uri": "https://localhost:8080/"
        },
        "outputId": "8a4d6637-7da0-4a80-9e82-1c6627d8f04b"
      },
      "execution_count": 4,
      "outputs": [
        {
          "output_type": "stream",
          "name": "stdout",
          "text": [
            "1\n",
            "2\n",
            "6\n",
            "24\n",
            "120\n"
          ]
        }
      ]
    },
    {
      "cell_type": "code",
      "source": [],
      "metadata": {
        "id": "mBLu0RGVSc_j"
      },
      "execution_count": null,
      "outputs": []
    }
  ]
}