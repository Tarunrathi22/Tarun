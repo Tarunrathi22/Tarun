{
  "nbformat": 4,
  "nbformat_minor": 0,
  "metadata": {
    "colab": {
      "provenance": [],
      "authorship_tag": "ABX9TyM5Q/2DlY7OofW9ZVSeKAST",
      "include_colab_link": true
    },
    "kernelspec": {
      "name": "python3",
      "display_name": "Python 3"
    },
    "language_info": {
      "name": "python"
    }
  },
  "cells": [
    {
      "cell_type": "markdown",
      "metadata": {
        "id": "view-in-github",
        "colab_type": "text"
      },
      "source": [
        "<a href=\"https://colab.research.google.com/github/Tarunrathi22/Tarun/blob/main/pandas.ipynb\" target=\"_parent\"><img src=\"https://colab.research.google.com/assets/colab-badge.svg\" alt=\"Open In Colab\"/></a>"
      ]
    },
    {
      "cell_type": "markdown",
      "source": [
        "# Pandas\n",
        "Pandas is a library.<br>\n",
        "Pandas is used to analyse data.<br>\n",
        "\n",
        "###import pandas"
      ],
      "metadata": {
        "id": "kZ-ttwlFR_Xn"
      }
    },
    {
      "cell_type": "code",
      "execution_count": 1,
      "metadata": {
        "id": "HO_DtaIgRpJI"
      },
      "outputs": [],
      "source": [
        "import pandas"
      ]
    },
    {
      "cell_type": "markdown",
      "source": [
        "to use alias we use \"as\""
      ],
      "metadata": {
        "id": "8dtRqZR5TC6k"
      }
    },
    {
      "cell_type": "code",
      "source": [
        "import pandas as pd"
      ],
      "metadata": {
        "id": "BSms6BhNTAuQ"
      },
      "execution_count": 2,
      "outputs": []
    },
    {
      "cell_type": "code",
      "source": [
        "import pandas as pd\n",
        "mydataset = {\n",
        "    'cars' : [\"BMW\",\"volvo\",\"skoda\"],\n",
        "    'passings':[3,7,2]\n",
        "}\n",
        "df = pd.DataFrame(mydataset)\n",
        "myvar = pd.DataFrame(mydataset)\n",
        "print(myvar)\n"
      ],
      "metadata": {
        "colab": {
          "base_uri": "https://localhost:8080/"
        },
        "id": "aPPPccvkTLx_",
        "outputId": "13c88593-dfea-428b-9589-5c7b26ef1b6c"
      },
      "execution_count": 4,
      "outputs": [
        {
          "output_type": "stream",
          "name": "stdout",
          "text": [
            "    cars  passings\n",
            "0    BMW         3\n",
            "1  volvo         7\n",
            "2  skoda         2\n"
          ]
        }
      ]
    },
    {
      "cell_type": "markdown",
      "source": [
        "to check version of the pandas"
      ],
      "metadata": {
        "id": "YpbTiV37UC-x"
      }
    },
    {
      "cell_type": "code",
      "source": [
        "print(pd.__version__)"
      ],
      "metadata": {
        "colab": {
          "base_uri": "https://localhost:8080/"
        },
        "id": "mjd54MkYTjqv",
        "outputId": "1d313d31-2a67-42e5-b9f8-b6a5ce77c65c"
      },
      "execution_count": 5,
      "outputs": [
        {
          "output_type": "stream",
          "name": "stdout",
          "text": [
            "2.0.3\n"
          ]
        }
      ]
    },
    {
      "cell_type": "markdown",
      "source": [
        "## What is Pandas Series?\n",
        "A Pandas Series is like a column in a table.<br>\n",
        "It is a one-dimensional array holding data of any type.<br>"
      ],
      "metadata": {
        "id": "aH3GNPYCUPJ6"
      }
    },
    {
      "cell_type": "code",
      "source": [
        "import pandas as pd\n",
        "a=[1,4,3,6,5]\n",
        "x=pd.Series(a)\n",
        "print(x)"
      ],
      "metadata": {
        "colab": {
          "base_uri": "https://localhost:8080/"
        },
        "id": "NI0wZsJhUMHt",
        "outputId": "a6968cfa-3bc9-4ed3-edb2-9b3791d57dbf"
      },
      "execution_count": 6,
      "outputs": [
        {
          "output_type": "stream",
          "name": "stdout",
          "text": [
            "0    1\n",
            "1    4\n",
            "2    3\n",
            "3    6\n",
            "4    5\n",
            "dtype: int64\n"
          ]
        }
      ]
    },
    {
      "cell_type": "markdown",
      "source": [
        "##Labels\n",
        "If nothing else is specified, the values are labeled with their index number. First value has index 0, second value has index 1 etc.<br>\n",
        "This label can be used to access a specified value."
      ],
      "metadata": {
        "id": "xuRIQum5U3b3"
      }
    },
    {
      "cell_type": "code",
      "source": [
        "#return the first value od the series\n",
        "print(x[0])"
      ],
      "metadata": {
        "colab": {
          "base_uri": "https://localhost:8080/"
        },
        "id": "4aYUmZAiUzzY",
        "outputId": "802de6a1-3310-4953-bc73-eaeb585a2feb"
      },
      "execution_count": 9,
      "outputs": [
        {
          "output_type": "stream",
          "name": "stdout",
          "text": [
            "1\n"
          ]
        }
      ]
    },
    {
      "cell_type": "code",
      "source": [
        "#creating labels\n",
        "a=[1,4,3,6,5]\n",
        "x=pd.Series(a,index=[\"a\",\"b\",\"c\",\"d\",\"e\"])\n",
        "print(x)\n",
        "# here abcde will be the new index\n"
      ],
      "metadata": {
        "colab": {
          "base_uri": "https://localhost:8080/"
        },
        "id": "Cz2fa0pHVSbe",
        "outputId": "b297f41e-ca81-4f93-b1a1-9df8af820cc3"
      },
      "execution_count": 13,
      "outputs": [
        {
          "output_type": "stream",
          "name": "stdout",
          "text": [
            "a    1\n",
            "b    4\n",
            "c    3\n",
            "d    6\n",
            "e    5\n",
            "dtype: int64\n"
          ]
        }
      ]
    },
    {
      "cell_type": "markdown",
      "source": [
        "##Key/Value Objects as Series\n",
        "\n",
        "You can also use a key/value object, like a dictionary, when creating a Series."
      ],
      "metadata": {
        "id": "batJwNf_WFmQ"
      }
    },
    {
      "cell_type": "code",
      "source": [
        "calories={\"day1\":423,\"day2\":380,\"day3\":390}\n",
        "myvar=pd.Series(calories)\n",
        "print(myvar)\n",
        "#"
      ],
      "metadata": {
        "colab": {
          "base_uri": "https://localhost:8080/"
        },
        "id": "Ugl5y8cZVmpo",
        "outputId": "29c7ac8b-b2bd-4759-9e30-d19b50116747"
      },
      "execution_count": 15,
      "outputs": [
        {
          "output_type": "stream",
          "name": "stdout",
          "text": [
            "day1    423\n",
            "day2    380\n",
            "day3    390\n",
            "dtype: int64\n"
          ]
        }
      ]
    },
    {
      "cell_type": "markdown",
      "source": [
        "> Note : The keys of the dictionary become the labels.\n",
        "\n",
        "To select only some of the items in the dictionary, use the index argument and specify only the items you want to include in the Series."
      ],
      "metadata": {
        "id": "zEw_OhGiWpYe"
      }
    },
    {
      "cell_type": "code",
      "source": [
        "# Create a Series using only data from \"day1\" and \"day2\":\n",
        "\n",
        "x=pd.Series(calories,index=[\"day1\",\"day2\"])\n",
        "print(x)"
      ],
      "metadata": {
        "colab": {
          "base_uri": "https://localhost:8080/"
        },
        "id": "pt92NHuvWcYo",
        "outputId": "0a19136a-b170-4acd-8506-94e94627dd77"
      },
      "execution_count": 16,
      "outputs": [
        {
          "output_type": "stream",
          "name": "stdout",
          "text": [
            "day1    423\n",
            "day2    380\n",
            "dtype: int64\n"
          ]
        }
      ]
    },
    {
      "cell_type": "markdown",
      "source": [
        "# DataFrames\n",
        "Data sets in Pandas are usually multi-dimensional tables, called DataFrames.<br>\n",
        "Series is like a column, a DataFrame is the whole tab"
      ],
      "metadata": {
        "id": "-d8h3YzJX2VZ"
      }
    },
    {
      "cell_type": "code",
      "source": [
        "import pandas as pd\n",
        "data={\n",
        "    \" calories\":[420,380,390],\n",
        "    \"duration\":[50,40,45]\n",
        "}\n",
        "\n",
        "x=pd.DataFrame(data)\n",
        "print(x)"
      ],
      "metadata": {
        "colab": {
          "base_uri": "https://localhost:8080/"
        },
        "id": "iMZG8b2BXvTy",
        "outputId": "cacd2390-d603-48f6-d270-084feb679865"
      },
      "execution_count": 17,
      "outputs": [
        {
          "output_type": "stream",
          "name": "stdout",
          "text": [
            "    calories  duration\n",
            "0        420        50\n",
            "1        380        40\n",
            "2        390        45\n"
          ]
        }
      ]
    },
    {
      "cell_type": "code",
      "source": [],
      "metadata": {
        "id": "Tv1345gVYcXz"
      },
      "execution_count": null,
      "outputs": []
    }
  ]
}