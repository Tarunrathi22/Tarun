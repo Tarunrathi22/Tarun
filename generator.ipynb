{
  "nbformat": 4,
  "nbformat_minor": 0,
  "metadata": {
    "colab": {
      "provenance": [],
      "authorship_tag": "ABX9TyP7o6CxBFPZGVMlIIlk472n",
      "include_colab_link": true
    },
    "kernelspec": {
      "name": "python3",
      "display_name": "Python 3"
    },
    "language_info": {
      "name": "python"
    }
  },
  "cells": [
    {
      "cell_type": "markdown",
      "metadata": {
        "id": "view-in-github",
        "colab_type": "text"
      },
      "source": [
        "<a href=\"https://colab.research.google.com/github/Tarunrathi22/Tarun/blob/main/generator.ipynb\" target=\"_parent\"><img src=\"https://colab.research.google.com/assets/colab-badge.svg\" alt=\"Open In Colab\"/></a>"
      ]
    },
    {
      "cell_type": "markdown",
      "source": [
        "#Generator\n",
        "- It is noramlly a function.<br>\n",
        "- In this we uses yeild.<br>\n",
        "- Just the yeild keyword instead of return keyword then genetors is used.\n"
      ],
      "metadata": {
        "id": "dRHl_m55dwvT"
      }
    },
    {
      "cell_type": "code",
      "execution_count": null,
      "metadata": {
        "colab": {
          "base_uri": "https://localhost:8080/"
        },
        "id": "Cps66l50dVJ3",
        "outputId": "270ed241-3c5b-4cad-c677-01215d22c665"
      },
      "outputs": [
        {
          "output_type": "stream",
          "name": "stdout",
          "text": [
            "1\n",
            "2\n",
            "3\n"
          ]
        }
      ],
      "source": [
        "def my_generator():\n",
        "    yield 1\n",
        "    yield 2\n",
        "    yield 3\n",
        "gen=my_generator()\n",
        "print(next(gen))\n",
        "print(next(gen))\n",
        "print(next(gen))"
      ]
    },
    {
      "cell_type": "code",
      "source": [
        "# yeild keyword not stores any values in memory\n",
        "def my_generator():\n",
        "    for i in range(10):# if we take different value in range then nothing will store in the momery which is best for fast ouput\n",
        "        yield i\n",
        "gen= my_generator()\n",
        "print(next(gen))\n",
        "print(next(gen))\n",
        "print(next(gen))\n",
        "\n",
        "for j in gen:\n",
        "    print(j)"
      ],
      "metadata": {
        "colab": {
          "base_uri": "https://localhost:8080/"
        },
        "id": "LIAGVuzOdsvQ",
        "outputId": "c0d9698d-752b-4397-e710-144445bd25b6"
      },
      "execution_count": null,
      "outputs": [
        {
          "output_type": "stream",
          "name": "stdout",
          "text": [
            "0\n",
            "1\n",
            "2\n",
            "3\n",
            "4\n",
            "5\n",
            "6\n",
            "7\n",
            "8\n",
            "9\n"
          ]
        }
      ]
    },
    {
      "cell_type": "code",
      "source": [
        "def gen_cities():\n",
        "    yield \"New York\"\n",
        "    yield \"London\"\n",
        "    yield \"Paris\"\n",
        "    yield \"Tokyo\"\n",
        "    yield from [\"india\", \"japanan\", \"ocean\", \"yoyo\"]\n",
        "for city in gen_cities():\n",
        "  print(f\"{city} is awesome\")\n"
      ],
      "metadata": {
        "colab": {
          "base_uri": "https://localhost:8080/"
        },
        "id": "Egp1A1-mdssl",
        "outputId": "68da5d4f-7868-4411-f013-42c1479e9385"
      },
      "execution_count": null,
      "outputs": [
        {
          "output_type": "stream",
          "name": "stdout",
          "text": [
            "New York is awesome\n",
            "London is awesome\n",
            "Paris is awesome\n",
            "Tokyo is awesome\n",
            "india is awesome\n",
            "japanan is awesome\n",
            "ocean is awesome\n",
            "yoyo is awesome\n"
          ]
        }
      ]
    },
    {
      "cell_type": "markdown",
      "source": [
        "##Send in generators\n",
        "\n",
        "The send() method resumes the generator's execution and \"sends\" a value into the generator function. The value sent becomes the result of the current yield expression.\n",
        "\n",
        "Usage: generator.send(value)"
      ],
      "metadata": {
        "id": "gcHQLKh91eT1"
      }
    },
    {
      "cell_type": "code",
      "source": [
        "#generator function\n",
        "def gen_numbers():\n",
        "  i=0\n",
        "  while i<10:\n",
        "    i+=1\n",
        "    from_send = yield i\n",
        "    print(f'GENERATOR: received {from_send}')\n",
        "#main code\n",
        "gen =  gen_numbers()\n",
        "for num in gen:\n",
        "  print(f'MAIN: {num}')\n",
        "  gen.send(f\"Thanks for {num})\")\n",
        "# The generator function gen_numbers produces numbers from 1 to 10, yielding each one.\n",
        "# The main program starts the generator, prints each yielded value, sends a message back to the generator, and handles the generator's exhaustion gracefully"
      ],
      "metadata": {
        "colab": {
          "base_uri": "https://localhost:8080/"
        },
        "id": "WBvZOVBndsqU",
        "outputId": "a6388379-3e97-4361-9213-79c2cd9d9175"
      },
      "execution_count": null,
      "outputs": [
        {
          "output_type": "stream",
          "name": "stdout",
          "text": [
            "MAIN: 1\n",
            "GENERATOR: received Thanks for 1)\n",
            "GENERATOR: received None\n",
            "MAIN: 3\n",
            "GENERATOR: received Thanks for 3)\n",
            "GENERATOR: received None\n",
            "MAIN: 5\n",
            "GENERATOR: received Thanks for 5)\n",
            "GENERATOR: received None\n",
            "MAIN: 7\n",
            "GENERATOR: received Thanks for 7)\n",
            "GENERATOR: received None\n",
            "MAIN: 9\n",
            "GENERATOR: received Thanks for 9)\n",
            "GENERATOR: received None\n"
          ]
        }
      ]
    },
    {
      "cell_type": "code",
      "source": [
        "gen =  gen_numbers()\n",
        "for num in gen:\n",
        "  print(f'MAIN: {num}')\n",
        "  next_value = gen.send(f\"Thanks for {num})\")\n",
        "  print(f'MAIN: {next_value}')"
      ],
      "metadata": {
        "colab": {
          "base_uri": "https://localhost:8080/"
        },
        "id": "jZgG4Wq11S67",
        "outputId": "797a9cf6-58d6-402d-d99e-e29384746640"
      },
      "execution_count": null,
      "outputs": [
        {
          "output_type": "stream",
          "name": "stdout",
          "text": [
            "MAIN: 1\n",
            "GENERATOR: received Thanks for 1)\n",
            "MAIN: 2\n",
            "GENERATOR: received None\n",
            "MAIN: 3\n",
            "GENERATOR: received Thanks for 3)\n",
            "MAIN: 4\n",
            "GENERATOR: received None\n",
            "MAIN: 5\n",
            "GENERATOR: received Thanks for 5)\n",
            "MAIN: 6\n",
            "GENERATOR: received None\n",
            "MAIN: 7\n",
            "GENERATOR: received Thanks for 7)\n",
            "MAIN: 8\n",
            "GENERATOR: received None\n",
            "MAIN: 9\n",
            "GENERATOR: received Thanks for 9)\n",
            "MAIN: 10\n",
            "GENERATOR: received None\n"
          ]
        }
      ]
    },
    {
      "cell_type": "markdown",
      "source": [
        "##Throw in generator\n",
        "\n",
        " Throw(type, value=None, traceback=None)\n",
        "The throw() method allows you to raise an exception at the point where the generator is paused. This can be useful for handling errors in the generator.\n",
        "\n",
        "Usage: generator.throw(type, value=None, traceback=None)"
      ],
      "metadata": {
        "id": "G1hK-CLE3-c8"
      }
    },
    {
      "cell_type": "code",
      "source": [
        "# When you run this code, it will:\n",
        "\n",
        "# Generate random numbers and yield them one by one.\n",
        "# Print \"Exception\" when the ValueError is thrown into the generator on the 5th iteration.\n",
        "# Continue to iterate until the generator is exhausted, printing the iteration count and the last yielded value.\n",
        "\n",
        "\n",
        "import random\n",
        "def gen_numbers():\n",
        "  i=0\n",
        "  while (i<10):\n",
        "    i+=1\n",
        "    rand =  random.randint(0,10)\n",
        "    try:\n",
        "      yield rand\n",
        "    except:\n",
        "      print(\"Exception\")\n",
        "\n",
        "i=0\n",
        "gen = gen_numbers()\n",
        "for num in gen:\n",
        "  i+=1\n",
        "  if i==5:\n",
        "    gen.throw(ValueError(\"Exception\"))\n",
        "\n",
        "print(f\"{i}:{num}\")\n",
        "# Putting It All Together\n",
        "# The generator function gen_numbers generates random numbers and yields them one by one.\n",
        "# In the main program, the generator is iterated over with a for loop.\n",
        "# When the loop reaches the 5th iteration (i == 5), a ValueError is thrown into the generator using gen.throw(ValueError(\"Exception\")).\n",
        "# The generator catches this exception and prints \"Exception\".\n",
        "# The loop continues until the generator is exhausted, and finally, the program prints the iteration count and the last yielded random number."
      ],
      "metadata": {
        "id": "x6JLgRIg2MN3",
        "colab": {
          "base_uri": "https://localhost:8080/"
        },
        "outputId": "377e6341-f39c-4fb4-e23a-5ba832eb304d"
      },
      "execution_count": 35,
      "outputs": [
        {
          "output_type": "stream",
          "name": "stdout",
          "text": [
            "Exception\n",
            "9:3\n"
          ]
        }
      ]
    },
    {
      "cell_type": "markdown",
      "source": [
        "#Close in generator\n",
        "The close() method stops the generator, causing it to raise a GeneratorExit exception. This is useful for cleaning up resources.\n",
        "\n",
        "Usage: generator.close()"
      ],
      "metadata": {
        "id": "kkMtL2A09ZL5"
      }
    },
    {
      "cell_type": "code",
      "source": [
        "# When you run this code, it will:\n",
        "\n",
        "# Generate random numbers and yield them one by one.\n",
        "# Print \"Generator Exit\" when the generator is closed on the 5th iteration.\n",
        "# Print \"Exception caught in main\" when ValueError is thrown and caught in the main program.\n",
        "# Finally, print the iteration count and the last yielded value before the generator was closed.\n",
        "\n",
        "import random\n",
        "def gen_numbers():\n",
        "  i=0\n",
        "  while (i<10):\n",
        "    i+=1\n",
        "    rand =  random.randint(0,10)\n",
        "    try:\n",
        "      yield rand\n",
        "    except GeneratorExit:\n",
        "      print(\"Generator Exit\")\n",
        "\n",
        "i=0\n",
        "gen = gen_numbers()\n",
        "for num in gen:\n",
        "  i+=1\n",
        "  if i==5:\n",
        "    gen.close()\n",
        "    gen.throw(ValueError(\"Exception\"))\n",
        "\n",
        "print(f\"{i}:{num}\")\n",
        "\n",
        "# The generator function gen_numbers generates random numbers and yields them one by one.\n",
        "# In the main program, the generator is iterated over with a for loop.\n",
        "# When the loop reaches the 5th iteration (i == 5), the generator is closed using gen.close(), which raises a GeneratorExit inside the generator and prints \"Generator Exit\".\n",
        "# After closing the generator, gen.throw(ValueError(\"Exception\")) is called, which raises a ValueError in the main program because the generator is already closed.\n",
        "# The ValueError is caught in the main program, and \"Exception caught in main\" is printed.\n",
        "# The loop exits, and the program prints the iteration count and the last yielded value."
      ],
      "metadata": {
        "id": "LR1-kZLq4q88"
      },
      "execution_count": 34,
      "outputs": []
    },
    {
      "cell_type": "code",
      "source": [],
      "metadata": {
        "id": "uS5FGd5N63Tz"
      },
      "execution_count": null,
      "outputs": []
    }
  ]
}