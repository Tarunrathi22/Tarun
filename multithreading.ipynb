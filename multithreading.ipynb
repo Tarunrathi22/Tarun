{
  "cells": [
    {
      "cell_type": "markdown",
      "metadata": {
        "colab_type": "text",
        "id": "view-in-github"
      },
      "source": [
        "<a href=\"https://colab.research.google.com/github/Tarunrathi22/Tarun/blob/main/multithreading.ipynb\" target=\"_parent\"><img src=\"https://colab.research.google.com/assets/colab-badge.svg\" alt=\"Open In Colab\"/></a>"
      ]
    },
    {
      "cell_type": "code",
      "execution_count": null,
      "metadata": {
        "id": "NhJhyRfJLgzp"
      },
      "outputs": [],
      "source": [
        "import threading\n",
        "import time"
      ]
    },
    {
      "cell_type": "code",
      "execution_count": null,
      "metadata": {
        "colab": {
          "base_uri": "https://localhost:8080/"
        },
        "id": "YEw-okarL9z4",
        "outputId": "06c03e23-9e8c-4f1c-c859-4197fa9b1962"
      },
      "outputs": [
        {
          "name": "stdout",
          "output_type": "stream",
          "text": [
            "sleeping for 5 seconds\n",
            "sleeping for 3 seconds\n",
            "sleeping for 2 seconds\n",
            "time taken -235.14375255100003\n"
          ]
        }
      ],
      "source": [
        "#indicates some task being done\n",
        "def func(seconds):\n",
        "  print(f\"sleeping for {seconds} seconds\")\n",
        "  time.sleep(seconds)\n",
        "  #normal code\n",
        "# time1= time.perf_counter()\n",
        "# func(5)\n",
        "# func(3)\n",
        "# func(2)\n",
        "\n",
        "\n",
        "#it is taking 10sec and if we use multithreading then it will run the codes parallel to each other.\n",
        "\n",
        "#same code using threads\n",
        "t1= threading.Thread(target=func, args=(5,))\n",
        "t2= threading.Thread(target=func, args=(3,))\n",
        "t3= threading.Thread(target=func, args=(2,))\n",
        "t1.start()\n",
        "t2.start()\n",
        "t3.start()\n",
        "\n",
        "t1.join()\n",
        "t2.join()\n",
        "t3.join()\n",
        "\n",
        "#calculate time\n",
        "time2= time.perf_counter()\n",
        "print(f\"time taken {time1-time2}\")"
      ]
    },
    {
      "cell_type": "code",
      "execution_count": 1,
      "metadata": {
        "id": "u6RY8LBkMQDh"
      },
      "outputs": [
        {
          "name": "stdout",
          "output_type": "stream",
          "text": [
            "sleeping for 1 seconds\n",
            "sleeping for 4 seconds\n",
            "sleeping for 7 seconds\n",
            "sleeping for 2 seconds\n",
            "None\n",
            "None\n",
            "None\n",
            "None\n"
          ]
        }
      ],
      "source": [
        "#mainly it is workful at parallel execution\n",
        "#two ways to do multithreading\n",
        "# threading(ThreadPoolExecutor)\n",
        "# throw mapping also(.map)\n",
        "\n",
        "import threading\n",
        "import time\n",
        "from concurrent.futures import ThreadPoolExecutor\n",
        "\n",
        "def func(seconds):\n",
        "  print(f\"sleeping for {seconds} seconds\")\n",
        "  time.sleep(seconds)\n",
        "\n",
        "def poolingdemo():\n",
        "  with ThreadPoolExecutor() as executor:\n",
        "    # future1 = executor.submit(func,3)\n",
        "    # future2 = executor.submit(func,5)\n",
        "    # future3 = executor.submit(func,9)\n",
        "    # print(future1.result())\n",
        "    # print(future2.result())\n",
        "    # print(future3.result())\n",
        "\n",
        "    l=[1,4,7,2]\n",
        "    results= executor.map(func,l)\n",
        "    for result in results:\n",
        "      print(result)\n",
        "\n",
        "poolingdemo()\n"
      ]
    },
    {
      "cell_type": "code",
      "execution_count": null,
      "metadata": {},
      "outputs": [],
      "source": []
    }
  ],
  "metadata": {
    "colab": {
      "authorship_tag": "ABX9TyOXEbnJxE6qq2IolixFRDjZ",
      "include_colab_link": true,
      "provenance": []
    },
    "kernelspec": {
      "display_name": "Python 3",
      "name": "python3"
    },
    "language_info": {
      "codemirror_mode": {
        "name": "ipython",
        "version": 3
      },
      "file_extension": ".py",
      "mimetype": "text/x-python",
      "name": "python",
      "nbconvert_exporter": "python",
      "pygments_lexer": "ipython3",
      "version": "3.10.13"
    }
  },
  "nbformat": 4,
  "nbformat_minor": 0
}
