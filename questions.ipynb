{
  "nbformat": 4,
  "nbformat_minor": 0,
  "metadata": {
    "colab": {
      "provenance": [],
      "authorship_tag": "ABX9TyMTun8Pm/sQDIDNGNwSJVUc",
      "include_colab_link": true
    },
    "kernelspec": {
      "name": "python3",
      "display_name": "Python 3"
    },
    "language_info": {
      "name": "python"
    }
  },
  "cells": [
    {
      "cell_type": "markdown",
      "metadata": {
        "id": "view-in-github",
        "colab_type": "text"
      },
      "source": [
        "<a href=\"https://colab.research.google.com/github/Tarunrathi22/Tarun/blob/main/questions.ipynb\" target=\"_parent\"><img src=\"https://colab.research.google.com/assets/colab-badge.svg\" alt=\"Open In Colab\"/></a>"
      ]
    },
    {
      "cell_type": "markdown",
      "source": [
        "1. Write a  Python program to print the following string in a specific format (see the output).\n",
        "Sample String : \"Twinkle, twinkle, little star, How I wonder what you are! Up above the world so high, Like a diamond in the sky. Twinkle, twinkle, little star, How I wonder what you are\"\n"
      ],
      "metadata": {
        "id": "XILpvIkrIVlC"
      }
    },
    {
      "cell_type": "code",
      "source": [
        "# print('''Twinkle, twinkle, little star, \\n\\tHow I wonder what you are! \\n\\t\\t Up above the world so high, \\n\\t\\tLike a diamond in the sky. \\nTwinkle, twinkle, little star,\\n\\tHow I wonder what you are''')"
      ],
      "metadata": {
        "id": "I-3XDxq8IXmp"
      },
      "execution_count": 10,
      "outputs": []
    },
    {
      "cell_type": "markdown",
      "source": [
        "2. Write a  Python program to find out what version of Python you are using."
      ],
      "metadata": {
        "id": "HpGJvy3RK-sb"
      }
    },
    {
      "cell_type": "code",
      "source": [
        "# import sys\n",
        "# print(sys.version)"
      ],
      "metadata": {
        "id": "Kkoe1o1cLF6a"
      },
      "execution_count": 12,
      "outputs": []
    },
    {
      "cell_type": "markdown",
      "source": [
        "3. Write a Python program to display the current date and time.\n",
        "Sample Output"
      ],
      "metadata": {
        "id": "N9FEu5YmL55E"
      }
    },
    {
      "cell_type": "code",
      "source": [
        "# import datetime\n",
        "# now = datetime.datetime.now()\n",
        "# print(\"Current date and time : \")\n",
        "# print(now.strftime(\"%Y-%m-%d %H:%M:%S\"))"
      ],
      "metadata": {
        "id": "bVqY2WhgLn5B"
      },
      "execution_count": 14,
      "outputs": []
    },
    {
      "cell_type": "markdown",
      "source": [
        "4. Write a Python program that calculates the area of a circle based on the radius entered by the user.\n"
      ],
      "metadata": {
        "id": "TZis0insMJMr"
      }
    },
    {
      "cell_type": "code",
      "source": [
        "# r=eval(input(\"enter the radius\"))\n",
        "# area=3.14*r*r\n",
        "# print(area)"
      ],
      "metadata": {
        "id": "MEk4lBLGME1z"
      },
      "execution_count": 17,
      "outputs": []
    },
    {
      "cell_type": "markdown",
      "source": [
        "5. Write a  Python program that accepts the user's first and last name and prints them in reverse order with a space between them"
      ],
      "metadata": {
        "id": "JIvK1a9FNNF_"
      }
    },
    {
      "cell_type": "code",
      "source": [
        "# fname=input(\"enter your first name\")\n",
        "# lname=input(\"enter your last name\")\n",
        "# print(lname+\" \"+fname)"
      ],
      "metadata": {
        "id": "gzPlK5uwM3eH"
      },
      "execution_count": 19,
      "outputs": []
    },
    {
      "cell_type": "markdown",
      "source": [
        "6. Write a Python program that accepts a sequence of comma-separated numbers from the user and generates a list and a tuple of those numbers.\n"
      ],
      "metadata": {
        "id": "BjBBbzkMNqZl"
      }
    },
    {
      "cell_type": "code",
      "source": [
        "# n1=input(\"enter numbers\")\n",
        "# l=n1.split(\",\")\n",
        "# t=tuple(l)\n",
        "# print(l)\n",
        "# print(t)"
      ],
      "metadata": {
        "id": "2n_lDdLtN7zP"
      },
      "execution_count": 35,
      "outputs": []
    },
    {
      "cell_type": "markdown",
      "source": [
        "7. Write a  Python program that accepts a filename from the user and prints the extension of the file.\n"
      ],
      "metadata": {
        "id": "WEQfCckTSETw"
      }
    },
    {
      "cell_type": "code",
      "source": [
        "# z=input(\"enter the file name\")\n",
        "# print(z.split(\".\")[-1])"
      ],
      "metadata": {
        "colab": {
          "base_uri": "https://localhost:8080/"
        },
        "id": "gclJKdXDQJBM",
        "outputId": "c6e60246-52c9-452f-9918-0052e3c6fca9"
      },
      "execution_count": 36,
      "outputs": [
        {
          "output_type": "stream",
          "name": "stdout",
          "text": [
            "enter the file nametarun.jpg\n",
            "jpg\n"
          ]
        }
      ]
    },
    {
      "cell_type": "markdown",
      "source": [
        "8. Write a  Python program to display the first and last colors from the following list.\n",
        "color_list = [\"Red\",\"Green\",\"White\" ,\"Black\"]\n"
      ],
      "metadata": {
        "id": "6MjWaUJ9SoqS"
      }
    },
    {
      "cell_type": "code",
      "source": [
        "# color_list = [\"Red\",\"Green\",\"White\" ,\"Black\"]\n",
        "# print(color_list[0])\n",
        "# print(color_list[-1])"
      ],
      "metadata": {
        "colab": {
          "base_uri": "https://localhost:8080/"
        },
        "id": "0Fb7XF8iScuF",
        "outputId": "99bd4ba1-273a-4a1c-fe2f-9efb4f991271"
      },
      "execution_count": 37,
      "outputs": [
        {
          "output_type": "stream",
          "name": "stdout",
          "text": [
            "Red\n",
            "Black\n"
          ]
        }
      ]
    },
    {
      "cell_type": "markdown",
      "source": [
        "9. Write a Python program to display the examination schedule. (extract the date from exam_st_date).\n",
        "exam_st_date = (11, 12, 2014)"
      ],
      "metadata": {
        "id": "nczcnlQLTFm0"
      }
    },
    {
      "cell_type": "code",
      "source": [
        "# exam_st_date = (11,12,2014)\n",
        "# print(\"The examination will start from : %i / %i / %i\"%exam_st_date)"
      ],
      "metadata": {
        "id": "V8SpoBVPTEAA"
      },
      "execution_count": 39,
      "outputs": []
    },
    {
      "cell_type": "markdown",
      "source": [
        "10. Write a Python program that accepts an integer (n) and computes the value of n+nn+nnn."
      ],
      "metadata": {
        "id": "efgQp9MYUpX3"
      }
    },
    {
      "cell_type": "code",
      "source": [
        "# a=int(input(\"enter the number:- \"))\n",
        "# n1=int(\"%s\" %a)\n",
        "# n2=int(\"%s%s\" % (a,a))\n",
        "# n3=int(\"%s%s%s\" % (a,a,a))\n",
        "# print(n1+n2+n3)"
      ],
      "metadata": {
        "id": "-abnJsytUfG9"
      },
      "execution_count": 45,
      "outputs": []
    },
    {
      "cell_type": "markdown",
      "source": [
        "11. Write a  Python program to print the documents (syntax, description etc.) of Python built-in function(s)."
      ],
      "metadata": {
        "id": "-X3O3A1FWxDr"
      }
    },
    {
      "cell_type": "code",
      "source": [
        "# print(abs.__doc__)"
      ],
      "metadata": {
        "colab": {
          "base_uri": "https://localhost:8080/"
        },
        "id": "CciE-S4xVhIg",
        "outputId": "3bfbc0cf-d37b-450b-9dd5-34cb78ddf9b7"
      },
      "execution_count": 46,
      "outputs": [
        {
          "output_type": "stream",
          "name": "stdout",
          "text": [
            "Return the absolute value of the argument.\n"
          ]
        }
      ]
    },
    {
      "cell_type": "markdown",
      "source": [
        "12. Write a  Python program that prints the calendar for a given month and year.\n",
        "Note : Use 'calendar' module."
      ],
      "metadata": {
        "id": "d7-ZckJiXR9-"
      }
    },
    {
      "cell_type": "code",
      "source": [
        "# import calendar\n",
        "# y=int(input(\"enter the year\"))\n",
        "# m=int(input(\"enter the month\"))\n",
        "# print(calendar.month(y,m))"
      ],
      "metadata": {
        "id": "AwbVN0u3XE1h"
      },
      "execution_count": 48,
      "outputs": []
    },
    {
      "cell_type": "markdown",
      "source": [
        "13. Write a Python program to print the following 'here document'."
      ],
      "metadata": {
        "id": "cICowKrJXfdr"
      }
    },
    {
      "cell_type": "code",
      "source": [
        "# print(\"\"\"a string that you \"don't\" have to escape\n",
        "# This\n",
        "# is a ....... multi-line\n",
        "# heredoc string --------> example\"\"\")"
      ],
      "metadata": {
        "id": "B2RV5kE7XYOD"
      },
      "execution_count": 51,
      "outputs": []
    },
    {
      "cell_type": "markdown",
      "source": [
        "14. Write a Python program to calculate the number of days between two dates.\n"
      ],
      "metadata": {
        "id": "FS1fpwuIYVQq"
      }
    },
    {
      "cell_type": "code",
      "source": [
        "# from datetime import date as dt\n",
        "# F_dt= dt(2003,8,5)\n",
        "# l_dt= dt(2024,6,14)\n",
        "# delta=l_dt-F_dt\n",
        "# print(delta.days)"
      ],
      "metadata": {
        "colab": {
          "base_uri": "https://localhost:8080/"
        },
        "id": "CC3P0-QfYCwR",
        "outputId": "56ef01df-248a-43d3-9558-42a43592bc83"
      },
      "execution_count": 60,
      "outputs": [
        {
          "output_type": "stream",
          "name": "stdout",
          "text": [
            "7619\n"
          ]
        }
      ]
    },
    {
      "cell_type": "markdown",
      "source": [
        "15. Write a  Python program to get the volume of a sphere with radius six."
      ],
      "metadata": {
        "id": "eqJ7w312aKTH"
      }
    },
    {
      "cell_type": "code",
      "source": [
        "# r=6\n",
        "# v=(4/3)*3.14*r*r*r\n",
        "# print(v)"
      ],
      "metadata": {
        "id": "1n9WBiV8aJ9F"
      },
      "execution_count": 63,
      "outputs": []
    },
    {
      "cell_type": "markdown",
      "source": [
        "16. Write a Python program to calculate the difference between a given number and 17. If the number is greater than 17, return twice the absolute difference"
      ],
      "metadata": {
        "id": "-D2FhZ0RakOs"
      }
    },
    {
      "cell_type": "code",
      "source": [
        "# def difference(n):\n",
        "#     if n<17:\n",
        "#       return abs(17-n)\n",
        "#     else:\n",
        "#       return (n-17)*2\n",
        "# print(difference(22))\n",
        "# print(difference(14))\n"
      ],
      "metadata": {
        "id": "wP0A5jWqZZqK"
      },
      "execution_count": 69,
      "outputs": []
    },
    {
      "cell_type": "markdown",
      "source": [
        "17. Write a  Python program to test whether a number is within 100 of 1000 or 2000."
      ],
      "metadata": {
        "id": "cmQfkEo7btiW"
      }
    },
    {
      "cell_type": "code",
      "source": [
        "# def near_thousand(n):\n",
        "#   return ((abs(1000-n)<=100) or (abs(2000-n)<=100))\n",
        "\n",
        "# print(near_thousand(1000))\n",
        "# print(near_thousand(900))\n",
        "# print(near_thousand(800))\n",
        "# print(near_thousand(2200))"
      ],
      "metadata": {
        "id": "qvHyXR8hdypk"
      },
      "execution_count": 78,
      "outputs": []
    },
    {
      "cell_type": "markdown",
      "source": [
        "18. Write a Python program to calculate the sum of three given numbers. If the values are equal, return three times their sum."
      ],
      "metadata": {
        "id": "rz_nGm4Ddtsd"
      }
    },
    {
      "cell_type": "code",
      "source": [
        "# def sum_thrice(x,y,z):\n",
        "#   sum=x+y+z\n",
        "#   if x==y or y==z or x==z:\n",
        "#     sum=sum*3\n",
        "#   return sum\n",
        "# print(sum_thrice(1,2,3))\n",
        "# print(sum_thrice(3,3,3))"
      ],
      "metadata": {
        "id": "lvsc1VD8f88A"
      },
      "execution_count": 80,
      "outputs": []
    },
    {
      "cell_type": "markdown",
      "source": [
        "19. Write a Python program to get a newly-generated string from a given string where \"Is\" has been added to the front. Return the string unchanged if the given string already begins with \"Is\"."
      ],
      "metadata": {
        "id": "vYO6d_ahiuar"
      }
    },
    {
      "cell_type": "code",
      "source": [],
      "metadata": {
        "id": "DYAVF0l6ilXF"
      },
      "execution_count": null,
      "outputs": []
    }
  ]
}